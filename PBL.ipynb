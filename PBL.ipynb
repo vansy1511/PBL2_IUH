{
  "nbformat": 4,
  "nbformat_minor": 0,
  "metadata": {
    "colab": {
      "provenance": [],
      "toc_visible": true
    },
    "kernelspec": {
      "name": "python3",
      "display_name": "Python 3"
    },
    "language_info": {
      "name": "python"
    }
  },
  "cells": [
    {
      "cell_type": "markdown",
      "metadata": {
        "id": "aL-A8TllNqPP"
      },
      "source": [
        "# **Description:**\n",
        "\n",
        "## **Abstract:**\n",
        "The data is related with direct marketing campaigns (phone calls) of a Portuguese banking institution. The classification goal is to predict if the client will subscribe a term deposit (variable y).\n",
        "\n",
        "## **Data Set Information:**\n",
        "The data is related with direct marketing campaigns of a Portuguese banking institution. The marketing campaigns were based on phone calls. Often, more than one contact to the same client was required, in order to access if the product (bank term deposit) would be ('yes') or not ('no') subscribed.\n",
        "\n",
        "## **Attribute Information:**\n",
        "**Bank client data:**  \n",
        "`0.` Age (numeric)  \n",
        "`1.` Job : type of job (categorical: 'admin.', 'blue-collar', 'entrepreneur', 'housemaid', 'management', 'retired', 'self-employed', 'services', 'student', 'technician', 'unemployed', 'unknown')  \n",
        "`2.` Marital : marital status (categorical: 'divorced', 'married', 'single', 'unknown' ; note: 'divorced' means divorced or widowed)  \n",
        "`3.` Education (categorical: 'basic.4y', 'basic.6y', 'basic.9y', 'high.school', 'illiterate', 'professional.course', 'university.degree', 'unknown')  \n",
        "`4.` Default: has credit in default? (categorical: 'no', 'yes', 'unknown')  \n",
        "`5.` Housing: has housing loan? (categorical: 'no', 'yes', 'unknown')  \n",
        "`6.` Loan: has personal loan? (categorical: 'no', 'yes', 'unknown')  \n",
        "**Related with the last contact of the current campaign:**  \n",
        "`7.` Contact: contact communication type (categorical:\n",
        "'cellular','telephone')  \n",
        "`8.` Month: last contact month of year (categorical: 'jan', 'feb', 'mar',\n",
        "…, 'nov', 'dec')  \n",
        "`9.` Dayofweek: last contact day of the week (categorical:\n",
        "'mon','tue','wed','thu','fri')  \n",
        "`10.` Duration: last contact duration, in seconds (numeric). Important\n",
        "note: this attribute highly affects the output target (e.g., if\n",
        "duration=0 then y='no'). Yet, the duration is not known before a call\n",
        "is performed. Also, after the end of the call y is obviously known.\n",
        "Thus, this input should only be included for benchmark purposes and\n",
        "should be discarded if the intention is to have a realistic\n",
        "predictive model.  \n",
        "**Other attributes:**  \n",
        "`11.` Campaign: number of contacts performed during this campaign and for\n",
        "this client (numeric, includes last contact)  \n",
        "`12.` Pdays: number of days that passed by after the client was last\n",
        "contacted from a previous campaign (numeric; 999 means client was not\n",
        "previously contacted)  \n",
        "`13.` Previous: number of contacts performed before this campaign and for\n",
        "this client (numeric)  \n",
        "`14.` Poutcome: outcome of the previous marketing campaign (categorical:\n",
        "'failure','nonexistent','success')  \n",
        "**Social and economic context attributes:**  \n",
        "`15.` Emp.var.rate: employment variation rate - quarterly indicator\n",
        "(numeric)  \n",
        "`16.` Cons.price.idx: consumer price index - monthly indicator (numeric)  \n",
        "`17.` Cons.conf.idx: consumer confidence index - monthly indicator\n",
        "(numeric)  \n",
        "`18.` Euribor3m: euribor 3 month rate - daily indicator (numeric)  \n",
        "`19.` Nr.employed: number of employees - quarterly indicator (numeric)  \n",
        "**Output variable (desired target):**  \n",
        "`20.` y - has the client subscribed a term deposit? (binary: 'yes', 'no')  \n",
        "## **Analysis Steps:**  \n",
        "`1.` Atribute information Analysis.  \n",
        "`2.` Machine Learning (Logistic Regression, KNN, SVM, Decision Tree,\n",
        "Random Forest, Naive Bayes)  \n",
        "`3.` Deep Learning (ANN)  \n",
        "## **Source:**\n",
        "*Dataset from :* http://archive.ics.uci.edu/ml/datasets/Bank+Marketing#"
      ]
    },
    {
      "cell_type": "markdown",
      "metadata": {
        "id": "OL9O0etuW5Ld"
      },
      "source": [
        "# Import libraries"
      ]
    },
    {
      "cell_type": "code",
      "metadata": {
        "id": "yYaiUQkPR_cj"
      },
      "source": [
        "import pandas as pd\n",
        "import numpy as np\n",
        "import matplotlib.pyplot as plt\n",
        "%matplotlib inline\n",
        "import seaborn as sns\n",
        "\n",
        "import warnings\n",
        "warnings.filterwarnings('ignore')\n",
        "\n",
        "from sklearn.preprocessing import LabelEncoder\n",
        "from imblearn.under_sampling import NearMiss\n",
        "from scipy import stats"
      ],
      "execution_count": null,
      "outputs": []
    },
    {
      "cell_type": "markdown",
      "metadata": {
        "id": "q4JD68EhhZA0"
      },
      "source": [
        "# Load and describe data:"
      ]
    },
    {
      "cell_type": "code",
      "metadata": {
        "colab": {
          "base_uri": "https://localhost:8080/",
          "height": 422
        },
        "id": "XeU3sm8OYBib",
        "outputId": "011bec46-9089-4869-9339-7bdc17791d3f"
      },
      "source": [
        "path = '/content/drive/MyDrive/Colab Notebooks/PBL/Data/bank-additional-full.csv'\n",
        "df = pd.read_csv(path, sep=';')\n",
        "df"
      ],
      "execution_count": null,
      "outputs": [
        {
          "output_type": "execute_result",
          "data": {
            "text/html": [
              "<div>\n",
              "<style scoped>\n",
              "    .dataframe tbody tr th:only-of-type {\n",
              "        vertical-align: middle;\n",
              "    }\n",
              "\n",
              "    .dataframe tbody tr th {\n",
              "        vertical-align: top;\n",
              "    }\n",
              "\n",
              "    .dataframe thead th {\n",
              "        text-align: right;\n",
              "    }\n",
              "</style>\n",
              "<table border=\"1\" class=\"dataframe\">\n",
              "  <thead>\n",
              "    <tr style=\"text-align: right;\">\n",
              "      <th></th>\n",
              "      <th>age</th>\n",
              "      <th>job</th>\n",
              "      <th>marital</th>\n",
              "      <th>education</th>\n",
              "      <th>default</th>\n",
              "      <th>housing</th>\n",
              "      <th>loan</th>\n",
              "      <th>contact</th>\n",
              "      <th>month</th>\n",
              "      <th>day_of_week</th>\n",
              "      <th>duration</th>\n",
              "      <th>campaign</th>\n",
              "      <th>pdays</th>\n",
              "      <th>previous</th>\n",
              "      <th>poutcome</th>\n",
              "      <th>emp.var.rate</th>\n",
              "      <th>cons.price.idx</th>\n",
              "      <th>cons.conf.idx</th>\n",
              "      <th>euribor3m</th>\n",
              "      <th>nr.employed</th>\n",
              "      <th>y</th>\n",
              "    </tr>\n",
              "  </thead>\n",
              "  <tbody>\n",
              "    <tr>\n",
              "      <th>0</th>\n",
              "      <td>56</td>\n",
              "      <td>housemaid</td>\n",
              "      <td>married</td>\n",
              "      <td>basic.4y</td>\n",
              "      <td>no</td>\n",
              "      <td>no</td>\n",
              "      <td>no</td>\n",
              "      <td>telephone</td>\n",
              "      <td>may</td>\n",
              "      <td>mon</td>\n",
              "      <td>261</td>\n",
              "      <td>1</td>\n",
              "      <td>999</td>\n",
              "      <td>0</td>\n",
              "      <td>nonexistent</td>\n",
              "      <td>1.1</td>\n",
              "      <td>93.994</td>\n",
              "      <td>-36.4</td>\n",
              "      <td>4.857</td>\n",
              "      <td>5191.0</td>\n",
              "      <td>no</td>\n",
              "    </tr>\n",
              "    <tr>\n",
              "      <th>1</th>\n",
              "      <td>57</td>\n",
              "      <td>services</td>\n",
              "      <td>married</td>\n",
              "      <td>high.school</td>\n",
              "      <td>unknown</td>\n",
              "      <td>no</td>\n",
              "      <td>no</td>\n",
              "      <td>telephone</td>\n",
              "      <td>may</td>\n",
              "      <td>mon</td>\n",
              "      <td>149</td>\n",
              "      <td>1</td>\n",
              "      <td>999</td>\n",
              "      <td>0</td>\n",
              "      <td>nonexistent</td>\n",
              "      <td>1.1</td>\n",
              "      <td>93.994</td>\n",
              "      <td>-36.4</td>\n",
              "      <td>4.857</td>\n",
              "      <td>5191.0</td>\n",
              "      <td>no</td>\n",
              "    </tr>\n",
              "    <tr>\n",
              "      <th>2</th>\n",
              "      <td>37</td>\n",
              "      <td>services</td>\n",
              "      <td>married</td>\n",
              "      <td>high.school</td>\n",
              "      <td>no</td>\n",
              "      <td>yes</td>\n",
              "      <td>no</td>\n",
              "      <td>telephone</td>\n",
              "      <td>may</td>\n",
              "      <td>mon</td>\n",
              "      <td>226</td>\n",
              "      <td>1</td>\n",
              "      <td>999</td>\n",
              "      <td>0</td>\n",
              "      <td>nonexistent</td>\n",
              "      <td>1.1</td>\n",
              "      <td>93.994</td>\n",
              "      <td>-36.4</td>\n",
              "      <td>4.857</td>\n",
              "      <td>5191.0</td>\n",
              "      <td>no</td>\n",
              "    </tr>\n",
              "    <tr>\n",
              "      <th>3</th>\n",
              "      <td>40</td>\n",
              "      <td>admin.</td>\n",
              "      <td>married</td>\n",
              "      <td>basic.6y</td>\n",
              "      <td>no</td>\n",
              "      <td>no</td>\n",
              "      <td>no</td>\n",
              "      <td>telephone</td>\n",
              "      <td>may</td>\n",
              "      <td>mon</td>\n",
              "      <td>151</td>\n",
              "      <td>1</td>\n",
              "      <td>999</td>\n",
              "      <td>0</td>\n",
              "      <td>nonexistent</td>\n",
              "      <td>1.1</td>\n",
              "      <td>93.994</td>\n",
              "      <td>-36.4</td>\n",
              "      <td>4.857</td>\n",
              "      <td>5191.0</td>\n",
              "      <td>no</td>\n",
              "    </tr>\n",
              "    <tr>\n",
              "      <th>4</th>\n",
              "      <td>56</td>\n",
              "      <td>services</td>\n",
              "      <td>married</td>\n",
              "      <td>high.school</td>\n",
              "      <td>no</td>\n",
              "      <td>no</td>\n",
              "      <td>yes</td>\n",
              "      <td>telephone</td>\n",
              "      <td>may</td>\n",
              "      <td>mon</td>\n",
              "      <td>307</td>\n",
              "      <td>1</td>\n",
              "      <td>999</td>\n",
              "      <td>0</td>\n",
              "      <td>nonexistent</td>\n",
              "      <td>1.1</td>\n",
              "      <td>93.994</td>\n",
              "      <td>-36.4</td>\n",
              "      <td>4.857</td>\n",
              "      <td>5191.0</td>\n",
              "      <td>no</td>\n",
              "    </tr>\n",
              "    <tr>\n",
              "      <th>...</th>\n",
              "      <td>...</td>\n",
              "      <td>...</td>\n",
              "      <td>...</td>\n",
              "      <td>...</td>\n",
              "      <td>...</td>\n",
              "      <td>...</td>\n",
              "      <td>...</td>\n",
              "      <td>...</td>\n",
              "      <td>...</td>\n",
              "      <td>...</td>\n",
              "      <td>...</td>\n",
              "      <td>...</td>\n",
              "      <td>...</td>\n",
              "      <td>...</td>\n",
              "      <td>...</td>\n",
              "      <td>...</td>\n",
              "      <td>...</td>\n",
              "      <td>...</td>\n",
              "      <td>...</td>\n",
              "      <td>...</td>\n",
              "      <td>...</td>\n",
              "    </tr>\n",
              "    <tr>\n",
              "      <th>41183</th>\n",
              "      <td>73</td>\n",
              "      <td>retired</td>\n",
              "      <td>married</td>\n",
              "      <td>professional.course</td>\n",
              "      <td>no</td>\n",
              "      <td>yes</td>\n",
              "      <td>no</td>\n",
              "      <td>cellular</td>\n",
              "      <td>nov</td>\n",
              "      <td>fri</td>\n",
              "      <td>334</td>\n",
              "      <td>1</td>\n",
              "      <td>999</td>\n",
              "      <td>0</td>\n",
              "      <td>nonexistent</td>\n",
              "      <td>-1.1</td>\n",
              "      <td>94.767</td>\n",
              "      <td>-50.8</td>\n",
              "      <td>1.028</td>\n",
              "      <td>4963.6</td>\n",
              "      <td>yes</td>\n",
              "    </tr>\n",
              "    <tr>\n",
              "      <th>41184</th>\n",
              "      <td>46</td>\n",
              "      <td>blue-collar</td>\n",
              "      <td>married</td>\n",
              "      <td>professional.course</td>\n",
              "      <td>no</td>\n",
              "      <td>no</td>\n",
              "      <td>no</td>\n",
              "      <td>cellular</td>\n",
              "      <td>nov</td>\n",
              "      <td>fri</td>\n",
              "      <td>383</td>\n",
              "      <td>1</td>\n",
              "      <td>999</td>\n",
              "      <td>0</td>\n",
              "      <td>nonexistent</td>\n",
              "      <td>-1.1</td>\n",
              "      <td>94.767</td>\n",
              "      <td>-50.8</td>\n",
              "      <td>1.028</td>\n",
              "      <td>4963.6</td>\n",
              "      <td>no</td>\n",
              "    </tr>\n",
              "    <tr>\n",
              "      <th>41185</th>\n",
              "      <td>56</td>\n",
              "      <td>retired</td>\n",
              "      <td>married</td>\n",
              "      <td>university.degree</td>\n",
              "      <td>no</td>\n",
              "      <td>yes</td>\n",
              "      <td>no</td>\n",
              "      <td>cellular</td>\n",
              "      <td>nov</td>\n",
              "      <td>fri</td>\n",
              "      <td>189</td>\n",
              "      <td>2</td>\n",
              "      <td>999</td>\n",
              "      <td>0</td>\n",
              "      <td>nonexistent</td>\n",
              "      <td>-1.1</td>\n",
              "      <td>94.767</td>\n",
              "      <td>-50.8</td>\n",
              "      <td>1.028</td>\n",
              "      <td>4963.6</td>\n",
              "      <td>no</td>\n",
              "    </tr>\n",
              "    <tr>\n",
              "      <th>41186</th>\n",
              "      <td>44</td>\n",
              "      <td>technician</td>\n",
              "      <td>married</td>\n",
              "      <td>professional.course</td>\n",
              "      <td>no</td>\n",
              "      <td>no</td>\n",
              "      <td>no</td>\n",
              "      <td>cellular</td>\n",
              "      <td>nov</td>\n",
              "      <td>fri</td>\n",
              "      <td>442</td>\n",
              "      <td>1</td>\n",
              "      <td>999</td>\n",
              "      <td>0</td>\n",
              "      <td>nonexistent</td>\n",
              "      <td>-1.1</td>\n",
              "      <td>94.767</td>\n",
              "      <td>-50.8</td>\n",
              "      <td>1.028</td>\n",
              "      <td>4963.6</td>\n",
              "      <td>yes</td>\n",
              "    </tr>\n",
              "    <tr>\n",
              "      <th>41187</th>\n",
              "      <td>74</td>\n",
              "      <td>retired</td>\n",
              "      <td>married</td>\n",
              "      <td>professional.course</td>\n",
              "      <td>no</td>\n",
              "      <td>yes</td>\n",
              "      <td>no</td>\n",
              "      <td>cellular</td>\n",
              "      <td>nov</td>\n",
              "      <td>fri</td>\n",
              "      <td>239</td>\n",
              "      <td>3</td>\n",
              "      <td>999</td>\n",
              "      <td>1</td>\n",
              "      <td>failure</td>\n",
              "      <td>-1.1</td>\n",
              "      <td>94.767</td>\n",
              "      <td>-50.8</td>\n",
              "      <td>1.028</td>\n",
              "      <td>4963.6</td>\n",
              "      <td>no</td>\n",
              "    </tr>\n",
              "  </tbody>\n",
              "</table>\n",
              "<p>41188 rows × 21 columns</p>\n",
              "</div>"
            ],
            "text/plain": [
              "       age          job  marital  ... euribor3m nr.employed    y\n",
              "0       56    housemaid  married  ...     4.857      5191.0   no\n",
              "1       57     services  married  ...     4.857      5191.0   no\n",
              "2       37     services  married  ...     4.857      5191.0   no\n",
              "3       40       admin.  married  ...     4.857      5191.0   no\n",
              "4       56     services  married  ...     4.857      5191.0   no\n",
              "...    ...          ...      ...  ...       ...         ...  ...\n",
              "41183   73      retired  married  ...     1.028      4963.6  yes\n",
              "41184   46  blue-collar  married  ...     1.028      4963.6   no\n",
              "41185   56      retired  married  ...     1.028      4963.6   no\n",
              "41186   44   technician  married  ...     1.028      4963.6  yes\n",
              "41187   74      retired  married  ...     1.028      4963.6   no\n",
              "\n",
              "[41188 rows x 21 columns]"
            ]
          },
          "metadata": {
            "tags": []
          },
          "execution_count": 2
        }
      ]
    },
    {
      "cell_type": "code",
      "metadata": {
        "colab": {
          "base_uri": "https://localhost:8080/"
        },
        "id": "SxMo8NffYOlh",
        "outputId": "7618ea4f-3348-489d-c7f4-bc6a5ba2b7e8"
      },
      "source": [
        "df.info()"
      ],
      "execution_count": null,
      "outputs": [
        {
          "output_type": "stream",
          "text": [
            "<class 'pandas.core.frame.DataFrame'>\n",
            "RangeIndex: 41188 entries, 0 to 41187\n",
            "Data columns (total 21 columns):\n",
            " #   Column          Non-Null Count  Dtype  \n",
            "---  ------          --------------  -----  \n",
            " 0   age             41188 non-null  int64  \n",
            " 1   job             41188 non-null  object \n",
            " 2   marital         41188 non-null  object \n",
            " 3   education       41188 non-null  object \n",
            " 4   default         41188 non-null  object \n",
            " 5   housing         41188 non-null  object \n",
            " 6   loan            41188 non-null  object \n",
            " 7   contact         41188 non-null  object \n",
            " 8   month           41188 non-null  object \n",
            " 9   day_of_week     41188 non-null  object \n",
            " 10  duration        41188 non-null  int64  \n",
            " 11  campaign        41188 non-null  int64  \n",
            " 12  pdays           41188 non-null  int64  \n",
            " 13  previous        41188 non-null  int64  \n",
            " 14  poutcome        41188 non-null  object \n",
            " 15  emp.var.rate    41188 non-null  float64\n",
            " 16  cons.price.idx  41188 non-null  float64\n",
            " 17  cons.conf.idx   41188 non-null  float64\n",
            " 18  euribor3m       41188 non-null  float64\n",
            " 19  nr.employed     41188 non-null  float64\n",
            " 20  y               41188 non-null  object \n",
            "dtypes: float64(5), int64(5), object(11)\n",
            "memory usage: 6.6+ MB\n"
          ],
          "name": "stdout"
        }
      ]
    },
    {
      "cell_type": "markdown",
      "metadata": {
        "id": "GPmk-SxShiLU"
      },
      "source": [
        "`unknown` được hiểu nhầm không phải NaN -> nhầm tưởng dữ liệu đầy đủ."
      ]
    },
    {
      "cell_type": "code",
      "metadata": {
        "colab": {
          "base_uri": "https://localhost:8080/",
          "height": 284
        },
        "id": "85ZxEr6NxT8X",
        "outputId": "1f89f6a4-e1c3-4696-86cb-c70b98aa4b07"
      },
      "source": [
        "# Numerical data:\n",
        "df.describe()"
      ],
      "execution_count": null,
      "outputs": [
        {
          "output_type": "execute_result",
          "data": {
            "text/html": [
              "<div>\n",
              "<style scoped>\n",
              "    .dataframe tbody tr th:only-of-type {\n",
              "        vertical-align: middle;\n",
              "    }\n",
              "\n",
              "    .dataframe tbody tr th {\n",
              "        vertical-align: top;\n",
              "    }\n",
              "\n",
              "    .dataframe thead th {\n",
              "        text-align: right;\n",
              "    }\n",
              "</style>\n",
              "<table border=\"1\" class=\"dataframe\">\n",
              "  <thead>\n",
              "    <tr style=\"text-align: right;\">\n",
              "      <th></th>\n",
              "      <th>age</th>\n",
              "      <th>duration</th>\n",
              "      <th>campaign</th>\n",
              "      <th>pdays</th>\n",
              "      <th>previous</th>\n",
              "      <th>emp.var.rate</th>\n",
              "      <th>cons.price.idx</th>\n",
              "      <th>cons.conf.idx</th>\n",
              "      <th>euribor3m</th>\n",
              "      <th>nr.employed</th>\n",
              "    </tr>\n",
              "  </thead>\n",
              "  <tbody>\n",
              "    <tr>\n",
              "      <th>count</th>\n",
              "      <td>41188.00000</td>\n",
              "      <td>41188.000000</td>\n",
              "      <td>41188.000000</td>\n",
              "      <td>41188.000000</td>\n",
              "      <td>41188.000000</td>\n",
              "      <td>41188.000000</td>\n",
              "      <td>41188.000000</td>\n",
              "      <td>41188.000000</td>\n",
              "      <td>41188.000000</td>\n",
              "      <td>41188.000000</td>\n",
              "    </tr>\n",
              "    <tr>\n",
              "      <th>mean</th>\n",
              "      <td>40.02406</td>\n",
              "      <td>258.285010</td>\n",
              "      <td>2.567593</td>\n",
              "      <td>962.475454</td>\n",
              "      <td>0.172963</td>\n",
              "      <td>0.081886</td>\n",
              "      <td>93.575664</td>\n",
              "      <td>-40.502600</td>\n",
              "      <td>3.621291</td>\n",
              "      <td>5167.035911</td>\n",
              "    </tr>\n",
              "    <tr>\n",
              "      <th>std</th>\n",
              "      <td>10.42125</td>\n",
              "      <td>259.279249</td>\n",
              "      <td>2.770014</td>\n",
              "      <td>186.910907</td>\n",
              "      <td>0.494901</td>\n",
              "      <td>1.570960</td>\n",
              "      <td>0.578840</td>\n",
              "      <td>4.628198</td>\n",
              "      <td>1.734447</td>\n",
              "      <td>72.251528</td>\n",
              "    </tr>\n",
              "    <tr>\n",
              "      <th>min</th>\n",
              "      <td>17.00000</td>\n",
              "      <td>0.000000</td>\n",
              "      <td>1.000000</td>\n",
              "      <td>0.000000</td>\n",
              "      <td>0.000000</td>\n",
              "      <td>-3.400000</td>\n",
              "      <td>92.201000</td>\n",
              "      <td>-50.800000</td>\n",
              "      <td>0.634000</td>\n",
              "      <td>4963.600000</td>\n",
              "    </tr>\n",
              "    <tr>\n",
              "      <th>25%</th>\n",
              "      <td>32.00000</td>\n",
              "      <td>102.000000</td>\n",
              "      <td>1.000000</td>\n",
              "      <td>999.000000</td>\n",
              "      <td>0.000000</td>\n",
              "      <td>-1.800000</td>\n",
              "      <td>93.075000</td>\n",
              "      <td>-42.700000</td>\n",
              "      <td>1.344000</td>\n",
              "      <td>5099.100000</td>\n",
              "    </tr>\n",
              "    <tr>\n",
              "      <th>50%</th>\n",
              "      <td>38.00000</td>\n",
              "      <td>180.000000</td>\n",
              "      <td>2.000000</td>\n",
              "      <td>999.000000</td>\n",
              "      <td>0.000000</td>\n",
              "      <td>1.100000</td>\n",
              "      <td>93.749000</td>\n",
              "      <td>-41.800000</td>\n",
              "      <td>4.857000</td>\n",
              "      <td>5191.000000</td>\n",
              "    </tr>\n",
              "    <tr>\n",
              "      <th>75%</th>\n",
              "      <td>47.00000</td>\n",
              "      <td>319.000000</td>\n",
              "      <td>3.000000</td>\n",
              "      <td>999.000000</td>\n",
              "      <td>0.000000</td>\n",
              "      <td>1.400000</td>\n",
              "      <td>93.994000</td>\n",
              "      <td>-36.400000</td>\n",
              "      <td>4.961000</td>\n",
              "      <td>5228.100000</td>\n",
              "    </tr>\n",
              "    <tr>\n",
              "      <th>max</th>\n",
              "      <td>98.00000</td>\n",
              "      <td>4918.000000</td>\n",
              "      <td>56.000000</td>\n",
              "      <td>999.000000</td>\n",
              "      <td>7.000000</td>\n",
              "      <td>1.400000</td>\n",
              "      <td>94.767000</td>\n",
              "      <td>-26.900000</td>\n",
              "      <td>5.045000</td>\n",
              "      <td>5228.100000</td>\n",
              "    </tr>\n",
              "  </tbody>\n",
              "</table>\n",
              "</div>"
            ],
            "text/plain": [
              "               age      duration  ...     euribor3m   nr.employed\n",
              "count  41188.00000  41188.000000  ...  41188.000000  41188.000000\n",
              "mean      40.02406    258.285010  ...      3.621291   5167.035911\n",
              "std       10.42125    259.279249  ...      1.734447     72.251528\n",
              "min       17.00000      0.000000  ...      0.634000   4963.600000\n",
              "25%       32.00000    102.000000  ...      1.344000   5099.100000\n",
              "50%       38.00000    180.000000  ...      4.857000   5191.000000\n",
              "75%       47.00000    319.000000  ...      4.961000   5228.100000\n",
              "max       98.00000   4918.000000  ...      5.045000   5228.100000\n",
              "\n",
              "[8 rows x 10 columns]"
            ]
          },
          "metadata": {
            "tags": []
          },
          "execution_count": 218
        }
      ]
    },
    {
      "cell_type": "code",
      "metadata": {
        "colab": {
          "base_uri": "https://localhost:8080/",
          "height": 166
        },
        "id": "j4wFCISvxb2w",
        "outputId": "954ca7b5-da2b-47ad-bf68-8a8bf47086ae"
      },
      "source": [
        "# categorical data:\n",
        "df.describe(include='object')"
      ],
      "execution_count": null,
      "outputs": [
        {
          "output_type": "execute_result",
          "data": {
            "text/html": [
              "<div>\n",
              "<style scoped>\n",
              "    .dataframe tbody tr th:only-of-type {\n",
              "        vertical-align: middle;\n",
              "    }\n",
              "\n",
              "    .dataframe tbody tr th {\n",
              "        vertical-align: top;\n",
              "    }\n",
              "\n",
              "    .dataframe thead th {\n",
              "        text-align: right;\n",
              "    }\n",
              "</style>\n",
              "<table border=\"1\" class=\"dataframe\">\n",
              "  <thead>\n",
              "    <tr style=\"text-align: right;\">\n",
              "      <th></th>\n",
              "      <th>job</th>\n",
              "      <th>marital</th>\n",
              "      <th>education</th>\n",
              "      <th>default</th>\n",
              "      <th>housing</th>\n",
              "      <th>loan</th>\n",
              "      <th>contact</th>\n",
              "      <th>month</th>\n",
              "      <th>day_of_week</th>\n",
              "      <th>poutcome</th>\n",
              "      <th>y</th>\n",
              "    </tr>\n",
              "  </thead>\n",
              "  <tbody>\n",
              "    <tr>\n",
              "      <th>count</th>\n",
              "      <td>41188</td>\n",
              "      <td>41188</td>\n",
              "      <td>41188</td>\n",
              "      <td>41188</td>\n",
              "      <td>41188</td>\n",
              "      <td>41188</td>\n",
              "      <td>41188</td>\n",
              "      <td>41188</td>\n",
              "      <td>41188</td>\n",
              "      <td>41188</td>\n",
              "      <td>41188</td>\n",
              "    </tr>\n",
              "    <tr>\n",
              "      <th>unique</th>\n",
              "      <td>12</td>\n",
              "      <td>4</td>\n",
              "      <td>8</td>\n",
              "      <td>3</td>\n",
              "      <td>3</td>\n",
              "      <td>3</td>\n",
              "      <td>2</td>\n",
              "      <td>10</td>\n",
              "      <td>5</td>\n",
              "      <td>3</td>\n",
              "      <td>2</td>\n",
              "    </tr>\n",
              "    <tr>\n",
              "      <th>top</th>\n",
              "      <td>admin.</td>\n",
              "      <td>married</td>\n",
              "      <td>university.degree</td>\n",
              "      <td>no</td>\n",
              "      <td>yes</td>\n",
              "      <td>no</td>\n",
              "      <td>cellular</td>\n",
              "      <td>may</td>\n",
              "      <td>thu</td>\n",
              "      <td>nonexistent</td>\n",
              "      <td>no</td>\n",
              "    </tr>\n",
              "    <tr>\n",
              "      <th>freq</th>\n",
              "      <td>10422</td>\n",
              "      <td>24928</td>\n",
              "      <td>12168</td>\n",
              "      <td>32588</td>\n",
              "      <td>21576</td>\n",
              "      <td>33950</td>\n",
              "      <td>26144</td>\n",
              "      <td>13769</td>\n",
              "      <td>8623</td>\n",
              "      <td>35563</td>\n",
              "      <td>36548</td>\n",
              "    </tr>\n",
              "  </tbody>\n",
              "</table>\n",
              "</div>"
            ],
            "text/plain": [
              "           job  marital          education  ... day_of_week     poutcome      y\n",
              "count    41188    41188              41188  ...       41188        41188  41188\n",
              "unique      12        4                  8  ...           5            3      2\n",
              "top     admin.  married  university.degree  ...         thu  nonexistent     no\n",
              "freq     10422    24928              12168  ...        8623        35563  36548\n",
              "\n",
              "[4 rows x 11 columns]"
            ]
          },
          "metadata": {
            "tags": []
          },
          "execution_count": 219
        }
      ]
    },
    {
      "cell_type": "code",
      "metadata": {
        "id": "5ZpU_Q-w4GoL"
      },
      "source": [
        "# df.replace('unknown', np.nan, inplace=True) # thay thế 'unknown' thành NaN\n",
        "# df.info()"
      ],
      "execution_count": null,
      "outputs": []
    },
    {
      "cell_type": "code",
      "metadata": {
        "id": "MRNofheQaD2n"
      },
      "source": [
        "# plt.figure(figsize=(10, 8))\n",
        "# sns.heatmap(df.isna())\n",
        "# plt.show()"
      ],
      "execution_count": null,
      "outputs": []
    },
    {
      "cell_type": "code",
      "metadata": {
        "id": "x31sMCqELI0z"
      },
      "source": [
        "# Function to label the count on top of each bar in graph\n",
        "def label_values(ax, spacing=5):\n",
        "    total = 0\n",
        "    for rect in ax.patches:\n",
        "        total += rect.get_height()\n",
        "\n",
        "    for rect in ax.patches:\n",
        "        y_value = rect.get_height()\n",
        "        x_value = rect.get_x() + rect.get_width() / 2\n",
        "\n",
        "        space = spacing\n",
        "        \n",
        "        va = 'bottom'\n",
        "        \n",
        "        if y_value < 0:\n",
        "            space *= -1\n",
        "            va = 'top'\n",
        "        label = \"{:.1f}~{:.2f}%\".format(y_value, y_value/total*100)\n",
        "        ax.annotate(\n",
        "            label,                      \n",
        "            (x_value, y_value),         \n",
        "            xytext=(0, space),          \n",
        "            textcoords=\"offset points\", \n",
        "            ha='center',                \n",
        "            va=va)        "
      ],
      "execution_count": null,
      "outputs": []
    },
    {
      "cell_type": "markdown",
      "metadata": {
        "id": "kZd2x4GunQmV"
      },
      "source": [
        "# EDA:"
      ]
    },
    {
      "cell_type": "markdown",
      "metadata": {
        "id": "7mXan4xXvcVj"
      },
      "source": [
        "## Bank client data:"
      ]
    },
    {
      "cell_type": "markdown",
      "metadata": {
        "id": "I2nW1AVCsjFR"
      },
      "source": [
        "### 1. Age:"
      ]
    },
    {
      "cell_type": "code",
      "metadata": {
        "colab": {
          "base_uri": "https://localhost:8080/"
        },
        "id": "to5gyIqo1rEW",
        "outputId": "982eb91e-21fa-486d-b606-7e6c3e972b93"
      },
      "source": [
        "df['age'].describe()"
      ],
      "execution_count": null,
      "outputs": [
        {
          "output_type": "execute_result",
          "data": {
            "text/plain": [
              "count    41188.00000\n",
              "mean        40.02406\n",
              "std         10.42125\n",
              "min         17.00000\n",
              "25%         32.00000\n",
              "50%         38.00000\n",
              "75%         47.00000\n",
              "max         98.00000\n",
              "Name: age, dtype: float64"
            ]
          },
          "metadata": {
            "tags": []
          },
          "execution_count": 223
        }
      ]
    },
    {
      "cell_type": "code",
      "metadata": {
        "colab": {
          "base_uri": "https://localhost:8080/",
          "height": 313
        },
        "id": "DPpwMA_XyHDZ",
        "outputId": "a561340c-60ec-434f-ea82-a309190c704f"
      },
      "source": [
        "print('Range: %d-%d \\n' % (df['age'].min(), df['age'].max()))\n",
        "sns.boxplot(df['age'], color='red')\n",
        "plt.show()"
      ],
      "execution_count": null,
      "outputs": [
        {
          "output_type": "stream",
          "text": [
            "Range: 17-98 \n",
            "\n"
          ],
          "name": "stdout"
        },
        {
          "output_type": "display_data",
          "data": {
            "image/png": "[encoded data removed]",
            "text/plain": [
              "<Figure size 432x288 with 1 Axes>"
            ]
          },
          "metadata": {
            "tags": [],
            "needs_background": "light"
          }
        }
      ]
    },
    {
      "cell_type": "code",
      "metadata": {
        "id": "c7Q4pTZtoXcc",
        "colab": {
          "base_uri": "https://localhost:8080/",
          "height": 279
        },
        "outputId": "14c91acf-a170-4d0f-e750-6cea73ba7d1b"
      },
      "source": [
        "sns.distplot(df['age'], hist=True, hist_kws = {'edgecolor':'black'})\n",
        "plt.show()"
      ],
      "execution_count": null,
      "outputs": [
        {
          "output_type": "display_data",
          "data": {
            "image/png": "[encoded data removed]",
            "text/plain": [
              "<Figure size 432x288 with 1 Axes>"
            ]
          },
          "metadata": {
            "tags": [],
            "needs_background": "light"
          }
        }
      ]
    },
    {
      "cell_type": "markdown",
      "metadata": {
        "id": "RlZnBFosxauM"
      },
      "source": [
        "`1` Độ tuổi khách hàng từ $[17; 98]$ nhưng tập trung chủ yếu trong khoảng $[20; 70]$. Chiếm tỉ trọng cao nhất ở khoảng $[32; 47]$.  \n",
        "`2` Biểu đồ lệch phải.  \n",
        "`3` Có nhiều outliers nhưng lại nằm trong khoảng chấp nhận được -> dữ liệu tin tưởng được."
      ]
    },
    {
      "cell_type": "markdown",
      "metadata": {
        "id": "hKryTLNC2ih8"
      },
      "source": [
        "### 2. Job:"
      ]
    },
    {
      "cell_type": "code",
      "metadata": {
        "colab": {
          "base_uri": "https://localhost:8080/"
        },
        "id": "M-Gd_lB13hrB",
        "outputId": "a12b7504-6458-4cc3-a94c-c0d518811c80"
      },
      "source": [
        "fig, ax = plt.subplots(figsize=(15, 7))\n",
        "sns.countplot(data=df, x='job', ax=ax)\n",
        "ax.set_title('Job distribution', fontsize=15)\n",
        "label_values(ax)\n",
        "# print('Count NaN: ', df['job'].isna().sum())\n",
        "print('Unknown: ', df[df['job']=='unknown'].shape[0])\n",
        "plt.show()"
      ],
      "execution_count": null,
      "outputs": [
        {
          "output_type": "stream",
          "text": [
            "Unknown:  330\n"
          ],
          "name": "stdout"
        },
        {
          "output_type": "display_data",
          "data": {
            "image/png": "[encoded data removed]",
            "text/plain": [
              "<Figure size 1080x504 with 1 Axes>"
            ]
          },
          "metadata": {
            "tags": [],
            "needs_background": "light"
          }
        }
      ]
    },
    {
      "cell_type": "markdown",
      "metadata": {
        "id": "gHxCHUUO5tpR"
      },
      "source": [
        "`1` Các công việc chủ yếu: **admin, blue-collar, technician, services, management**  \n",
        "`2` Unknown: 330 -> ít."
      ]
    },
    {
      "cell_type": "markdown",
      "metadata": {
        "id": "oq9cLuyhsywL"
      },
      "source": [
        "### 3. Marital:"
      ]
    },
    {
      "cell_type": "code",
      "metadata": {
        "colab": {
          "base_uri": "https://localhost:8080/"
        },
        "id": "NDEw488Rs8vd",
        "outputId": "376d39e2-55bc-4d40-c7ce-554fe50961f0"
      },
      "source": [
        "fig, ax = plt.subplots(figsize=(10, 8))\n",
        "sns.countplot(data=df, x='marital')\n",
        "label_values(ax)\n",
        "# print('Count NaN: ', df['marital'].isna().sum())\n",
        "print('Unknown: ', df[df['marital']=='unknown'].shape[0])\n",
        "plt.show()"
      ],
      "execution_count": null,
      "outputs": [
        {
          "output_type": "stream",
          "text": [
            "Unknown:  80\n"
          ],
          "name": "stdout"
        },
        {
          "output_type": "display_data",
          "data": {
            "image/png": "[encoded data removed]",
            "text/plain": [
              "<Figure size 720x576 with 1 Axes>"
            ]
          },
          "metadata": {
            "tags": [],
            "needs_background": "light"
          }
        }
      ]
    },
    {
      "cell_type": "code",
      "metadata": {
        "colab": {
          "base_uri": "https://localhost:8080/"
        },
        "id": "jI01OAbjtSDq",
        "outputId": "286a0d7f-1c37-4371-a387-24f79262fcd3"
      },
      "source": [
        "df[['marital']].describe()"
      ],
      "execution_count": null,
      "outputs": [
        {
          "output_type": "execute_result",
          "data": {
            "text/html": [
              "<div>\n",
              "<style scoped>\n",
              "    .dataframe tbody tr th:only-of-type {\n",
              "        vertical-align: middle;\n",
              "    }\n",
              "\n",
              "    .dataframe tbody tr th {\n",
              "        vertical-align: top;\n",
              "    }\n",
              "\n",
              "    .dataframe thead th {\n",
              "        text-align: right;\n",
              "    }\n",
              "</style>\n",
              "<table border=\"1\" class=\"dataframe\">\n",
              "  <thead>\n",
              "    <tr style=\"text-align: right;\">\n",
              "      <th></th>\n",
              "      <th>marital</th>\n",
              "    </tr>\n",
              "  </thead>\n",
              "  <tbody>\n",
              "    <tr>\n",
              "      <th>count</th>\n",
              "      <td>41188</td>\n",
              "    </tr>\n",
              "    <tr>\n",
              "      <th>unique</th>\n",
              "      <td>4</td>\n",
              "    </tr>\n",
              "    <tr>\n",
              "      <th>top</th>\n",
              "      <td>married</td>\n",
              "    </tr>\n",
              "    <tr>\n",
              "      <th>freq</th>\n",
              "      <td>24928</td>\n",
              "    </tr>\n",
              "  </tbody>\n",
              "</table>\n",
              "</div>"
            ],
            "text/plain": [
              "        marital\n",
              "count     41188\n",
              "unique        4\n",
              "top     married\n",
              "freq      24928"
            ]
          },
          "metadata": {
            "tags": []
          },
          "execution_count": 228
        }
      ]
    },
    {
      "cell_type": "markdown",
      "metadata": {
        "id": "FegMNv2Uu6xN"
      },
      "source": [
        "`1` Chủ yếu khách hàng đang trong tình trạng đã kết hôn (24928~60.5%).  \n",
        "`2` Missing: 80 -> ít."
      ]
    },
    {
      "cell_type": "markdown",
      "metadata": {
        "id": "RIZ0dCG9vlP8"
      },
      "source": [
        "### 4. Education:"
      ]
    },
    {
      "cell_type": "code",
      "metadata": {
        "colab": {
          "base_uri": "https://localhost:8080/"
        },
        "id": "am4swgFHvU0f",
        "outputId": "9d77c57d-a107-406a-c35e-9c16bd94781c"
      },
      "source": [
        "df['education'].unique()"
      ],
      "execution_count": null,
      "outputs": [
        {
          "output_type": "execute_result",
          "data": {
            "text/plain": [
              "array(['basic.4y', 'high.school', 'basic.6y', 'basic.9y',\n",
              "       'professional.course', 'unknown', 'university.degree',\n",
              "       'illiterate'], dtype=object)"
            ]
          },
          "metadata": {
            "tags": []
          },
          "execution_count": 229
        }
      ]
    },
    {
      "cell_type": "code",
      "metadata": {
        "colab": {
          "base_uri": "https://localhost:8080/"
        },
        "id": "XsfTKxyBvwDW",
        "outputId": "df9ce916-2139-48d9-c88d-ce0859cecda1"
      },
      "source": [
        "fig, ax = plt.subplots(figsize=(15, 7))\n",
        "sns.countplot(data=df, x='education', ax=ax)\n",
        "ax.set_title('Education distribution', fontsize=15)\n",
        "ax.set_xticklabels(ax.get_xticklabels(), rotation = 70, fontsize=10)\n",
        "label_values(ax)\n",
        "# print('Count NaN: ', df['education'].isna().sum())\n",
        "print('Unknown: ', df[df['education']=='unknown'].shape[0])\n",
        "plt.show()"
      ],
      "execution_count": null,
      "outputs": [
        {
          "output_type": "stream",
          "text": [
            "Unknown:  1731\n"
          ],
          "name": "stdout"
        },
        {
          "output_type": "display_data",
          "data": {
            "image/png": "[encoded data removed]",
            "text/plain": [
              "<Figure size 1080x504 with 1 Axes>"
            ]
          },
          "metadata": {
            "tags": [],
            "needs_background": "light"
          }
        }
      ]
    },
    {
      "cell_type": "markdown",
      "metadata": {
        "id": "KoqO6oDRxImk"
      },
      "source": [
        "`1` Các bậc chủ yếu: **high.school, university.degree, basic.9y, professional.course**  \n",
        "`2` Tỉ lệ **illiterate** rất thấp.  \n",
        "`3` Missing: 1731 -> ít."
      ]
    },
    {
      "cell_type": "markdown",
      "metadata": {
        "id": "KCEiiIFx0vpr"
      },
      "source": [
        "### 4. Default, housing and loan:"
      ]
    },
    {
      "cell_type": "code",
      "metadata": {
        "colab": {
          "base_uri": "https://localhost:8080/"
        },
        "id": "BuRYNJyt_7Zv",
        "outputId": "a1432bbc-96dd-48d4-b121-1dacca5a5f06"
      },
      "source": [
        "plt.figure(figsize=(18, 7))\n",
        "\n",
        "print('Unknown default: ', df[df['default']=='unknown'].shape[0])\n",
        "print('Unknown housing: ', df[df['housing']=='unknown'].shape[0])\n",
        "print('Unknown loan: ', df[df['loan']=='unknown'].shape[0])\n",
        "\n",
        "plt.subplot(1, 3, 1)\n",
        "ax=sns.countplot(data=df, x='default')\n",
        "label_values(ax)\n",
        "\n",
        "plt.subplot(1, 3, 2)\n",
        "ax=sns.countplot(data=df, x='housing')\n",
        "label_values(ax)\n",
        "\n",
        "plt.subplot(1, 3, 3)\n",
        "ax=sns.countplot(data=df, x='loan')\n",
        "label_values(ax)\n",
        "\n",
        "plt.show()"
      ],
      "execution_count": null,
      "outputs": [
        {
          "output_type": "stream",
          "text": [
            "Unknown default:  8597\n",
            "Unknown housing:  990\n",
            "Unknown loan:  990\n"
          ],
          "name": "stdout"
        },
        {
          "output_type": "display_data",
          "data": {
            "image/png": "[encoded data removed]",
            "text/plain": [
              "<Figure size 1296x504 with 3 Axes>"
            ]
          },
          "metadata": {
            "tags": [],
            "needs_background": "light"
          }
        }
      ]
    },
    {
      "cell_type": "markdown",
      "metadata": {
        "id": "Z0VJfRYL1hF6"
      },
      "source": [
        "**Default:**  \n",
        "`1` Tỉ lệ lớn không vỡ nợ -> Tỉ lệ sẽ được gọi cao hơn.  \n",
        "`2` Có 3 người vỡ nợ -> Tỉ lệ sẽ được gọi thấp.  \n",
        "`3` Missing: 8597~20.9% "
      ]
    },
    {
      "cell_type": "markdown",
      "metadata": {
        "id": "X9zLZ3tM-ZLv"
      },
      "source": [
        "**Housing:**  \n",
        "`1` Tỉ lệ đã có hoặc không khoản vay để mua nhà không chênh lệch nhiều.  \n",
        "`2` Missing: 990"
      ]
    },
    {
      "cell_type": "markdown",
      "metadata": {
        "id": "vhgnkN39B1Yu"
      },
      "source": [
        "**Loan:**  \n",
        "`1` Tỉ lệ lớn chưa có khoản vay cá nhân -> tỉ lệ tin cậy cao hơn.  \n",
        "`2` Missing: 990"
      ]
    },
    {
      "cell_type": "markdown",
      "metadata": {
        "id": "zAyXx_pYH95g"
      },
      "source": [
        "## Related with the last contact of the current campaign:"
      ]
    },
    {
      "cell_type": "markdown",
      "metadata": {
        "id": "IPlaO8WqDFEX"
      },
      "source": [
        "### 1. Contact:"
      ]
    },
    {
      "cell_type": "code",
      "metadata": {
        "id": "r55w91G5IAgT",
        "colab": {
          "base_uri": "https://localhost:8080/"
        },
        "outputId": "2412581e-8a63-4358-8abb-fd3e5d6a2db2"
      },
      "source": [
        "df['contact'].unique()"
      ],
      "execution_count": null,
      "outputs": [
        {
          "output_type": "execute_result",
          "data": {
            "text/plain": [
              "array(['telephone', 'cellular'], dtype=object)"
            ]
          },
          "metadata": {
            "tags": []
          },
          "execution_count": 232
        }
      ]
    },
    {
      "cell_type": "code",
      "metadata": {
        "colab": {
          "base_uri": "https://localhost:8080/"
        },
        "id": "Zglxg3nCDRO1",
        "outputId": "fcfb2def-8b39-4039-fc95-9875e828ad41"
      },
      "source": [
        "plt.figure(figsize=(8, 7))\n",
        "ax=sns.countplot(data=df, x='contact')\n",
        "label_values(ax)\n",
        "plt.show()"
      ],
      "execution_count": null,
      "outputs": [
        {
          "output_type": "display_data",
          "data": {
            "image/png": "[encoded data removed]",
            "text/plain": [
              "<Figure size 576x504 with 1 Axes>"
            ]
          },
          "metadata": {
            "tags": [],
            "needs_background": "light"
          }
        }
      ]
    },
    {
      "cell_type": "markdown",
      "metadata": {
        "id": "pt6AShfSK2Qc"
      },
      "source": [
        "Tỉ lệ sử dụng di động cao hơn."
      ]
    },
    {
      "cell_type": "markdown",
      "metadata": {
        "id": "K2pzZkY0TsoL"
      },
      "source": [
        "### 2. Month, Dayofweek:"
      ]
    },
    {
      "cell_type": "code",
      "metadata": {
        "id": "TvkWaGqYDcsB",
        "colab": {
          "base_uri": "https://localhost:8080/"
        },
        "outputId": "0bf1b5cf-0f92-4bf2-d941-32d077ad83d9"
      },
      "source": [
        "plt.figure(figsize=(18, 7))\n",
        "ax=sns.countplot(data=df, x='month')\n",
        "label_values(ax)\n",
        "\n",
        "plt.show()"
      ],
      "execution_count": null,
      "outputs": [
        {
          "output_type": "display_data",
          "data": {
            "image/png": "[encoded data removed]",
            "text/plain": [
              "<Figure size 1296x504 with 1 Axes>"
            ]
          },
          "metadata": {
            "tags": [],
            "needs_background": "light"
          }
        }
      ]
    },
    {
      "cell_type": "code",
      "metadata": {
        "colab": {
          "base_uri": "https://localhost:8080/"
        },
        "id": "cw1skwRfORml",
        "outputId": "0cd81049-5ba4-4dd3-85ab-b6f768e2a400"
      },
      "source": [
        "plt.figure(figsize=(10, 7))\n",
        "ax=sns.countplot(data=df, x='day_of_week')\n",
        "label_values(ax)\n",
        "\n",
        "plt.show()"
      ],
      "execution_count": null,
      "outputs": [
        {
          "output_type": "display_data",
          "data": {
            "image/png": "[encoded data removed]",
            "text/plain": [
              "<Figure size 720x504 with 1 Axes>"
            ]
          },
          "metadata": {
            "tags": [],
            "needs_background": "light"
          }
        }
      ]
    },
    {
      "cell_type": "markdown",
      "metadata": {
        "id": "HLCt6thDUpPf"
      },
      "source": [
        "`1.` Các tháng ít liên hệ: 3, 9, 10, 12.  \n",
        "`2.` Các ngày làm việc trong tuần đều có lượng liên hệ không có nhiều khác biệt."
      ]
    },
    {
      "cell_type": "markdown",
      "metadata": {
        "id": "Pg_CsbWoVJRo"
      },
      "source": [
        "### 3. Duration:  \n",
        "*Chỉ phân tích, không có ý nghĩa cho mô hình dự đoán. Vì thời lượng cuộc gọi không được biết trước, một khi cuộc gọi kết thúc thì ta đã biết chắc chắn kết quả **\"yes\"** hoặc **\"no\"** rồi.*"
      ]
    },
    {
      "cell_type": "code",
      "metadata": {
        "colab": {
          "base_uri": "https://localhost:8080/"
        },
        "id": "0wil18apVoHg",
        "outputId": "56e4f167-d8f0-4884-c07f-8766702c4835"
      },
      "source": [
        "df['duration'].describe()"
      ],
      "execution_count": null,
      "outputs": [
        {
          "output_type": "execute_result",
          "data": {
            "text/plain": [
              "count    41188.000000\n",
              "mean       258.285010\n",
              "std        259.279249\n",
              "min          0.000000\n",
              "25%        102.000000\n",
              "50%        180.000000\n",
              "75%        319.000000\n",
              "max       4918.000000\n",
              "Name: duration, dtype: float64"
            ]
          },
          "metadata": {
            "tags": []
          },
          "execution_count": 236
        }
      ]
    },
    {
      "cell_type": "code",
      "metadata": {
        "colab": {
          "base_uri": "https://localhost:8080/"
        },
        "id": "JIkSshitVoHr",
        "outputId": "c8feae19-fbe8-42b2-be1d-9b12789e4f1d"
      },
      "source": [
        "print('Range: %d-%d' % (df['duration'].min(), df['duration'].max()))\n",
        "print('Mean: ', round(df['duration'].describe().loc['mean'], 2))\n",
        "print('Standard deviation: ', round(df['duration'].describe().loc['std'], 2))\n",
        "\n",
        "plt.figure(figsize=(16, 5))\n",
        "\n",
        "plt.subplot(1, 2, 1)\n",
        "sns.boxplot(df['duration'], color='lightgreen')\n",
        "\n",
        "plt.subplot(1, 2, 2)\n",
        "sns.distplot(df['duration'], hist=True, hist_kws = {'edgecolor':'black'})\n",
        "plt.show()"
      ],
      "execution_count": null,
      "outputs": [
        {
          "output_type": "stream",
          "text": [
            "Range: 0-4918\n",
            "Mean:  258.29\n",
            "Standard deviation:  259.28\n"
          ],
          "name": "stdout"
        },
        {
          "output_type": "display_data",
          "data": {
            "image/png": "[encoded data removed]",
            "text/plain": [
              "<Figure size 1152x360 with 2 Axes>"
            ]
          },
          "metadata": {
            "tags": [],
            "needs_background": "light"
          }
        }
      ]
    },
    {
      "cell_type": "markdown",
      "metadata": {
        "id": "FW0T6RFaZEi3"
      },
      "source": [
        "`1.` Hầu hết thời gian cuộc gọi đều nằm xoay quanh mức Median.  \n",
        "`2.` Suy ra thời gian gọi trong các khoảng quartile sẽ cho hiệu suất tốt hơn."
      ]
    },
    {
      "cell_type": "code",
      "metadata": {
        "colab": {
          "base_uri": "https://localhost:8080/"
        },
        "id": "vVqNQ6THV3IV",
        "outputId": "37181fe1-7d03-4383-9d00-2496d4445fcc"
      },
      "source": [
        "IQR = df['duration'].describe().loc['75%'] - df['duration'].describe().loc['25%']\n",
        "print(\"First quartile: \", df['duration'].describe().loc['25%'])\n",
        "print(\"Second quartile: \", df['duration'].describe().loc['50%'])\n",
        "print(\"Third quartile: \", df['duration'].describe().loc['75%'])\n",
        "print(\"Inter quartile range: \", IQR)\n",
        "print(\"Duration outliers: \", df['duration'].describe().loc['75%'] + 1.5*IQR)"
      ],
      "execution_count": null,
      "outputs": [
        {
          "output_type": "stream",
          "text": [
            "First quartile:  102.0\n",
            "Second quartile:  180.0\n",
            "Third quartile:  319.0\n",
            "Inter quartile range:  217.0\n",
            "Duration outliers:  644.5\n"
          ],
          "name": "stdout"
        }
      ]
    },
    {
      "cell_type": "code",
      "metadata": {
        "colab": {
          "base_uri": "https://localhost:8080/"
        },
        "id": "cpWAmoZtF8OS",
        "outputId": "b2f093a0-afff-4436-fa9b-cb33eac8af35"
      },
      "source": [
        "print(\"Number of outliers: %d ~ %.2f%%\" % (df[df['duration'] > 644.5]['duration'].count(), \n",
        "df[df['duration'] > 644.5]['duration'].count()/41188*100) )"
      ],
      "execution_count": null,
      "outputs": [
        {
          "output_type": "stream",
          "text": [
            "Number of outliers: 2963 ~ 7.19%\n"
          ],
          "name": "stdout"
        }
      ]
    },
    {
      "cell_type": "markdown",
      "metadata": {
        "id": "OF6cfRbIiDXe"
      },
      "source": [
        "## Social and economic context attributes:"
      ]
    },
    {
      "cell_type": "markdown",
      "metadata": {
        "id": "6X56dKp2W7el"
      },
      "source": [
        "### 1. Emp.var.rate:"
      ]
    },
    {
      "cell_type": "code",
      "metadata": {
        "colab": {
          "base_uri": "https://localhost:8080/"
        },
        "id": "LHr09QVdN250",
        "outputId": "c0c858e2-f45f-4290-ad1c-f6c9e646d455"
      },
      "source": [
        "plt.figure(figsize=(15, 7))\n",
        "ax=sns.countplot(data=df, x='emp.var.rate')\n",
        "label_values(ax)\n",
        "plt.show()"
      ],
      "execution_count": null,
      "outputs": [
        {
          "output_type": "display_data",
          "data": {
            "image/png": "[encoded data removed]",
            "text/plain": [
              "<Figure size 1080x504 with 1 Axes>"
            ]
          },
          "metadata": {
            "tags": [],
            "needs_background": "light"
          }
        }
      ]
    },
    {
      "cell_type": "markdown",
      "metadata": {
        "id": "FLgIUNXuXB5h"
      },
      "source": [
        "### 2. Cons.price.idx, Cons.conf.idx:"
      ]
    },
    {
      "cell_type": "code",
      "metadata": {
        "colab": {
          "base_uri": "https://localhost:8080/"
        },
        "id": "NKhYDVUyVOrq",
        "outputId": "45b78cd0-5ef6-4e1a-e10a-77e03f52e13f"
      },
      "source": [
        "plt.figure(figsize=(18, 7))\n",
        "\n",
        "plt.subplot(1, 2, 1)\n",
        "sns.distplot(df['cons.price.idx'], hist=True, hist_kws = {'edgecolor':'black'})\n",
        "\n",
        "plt.subplot(1, 2, 2)\n",
        "sns.distplot(df['cons.conf.idx'], hist=True, hist_kws = {'edgecolor':'black'}, color='red')\n",
        "\n",
        "plt.show()"
      ],
      "execution_count": null,
      "outputs": [
        {
          "output_type": "display_data",
          "data": {
            "image/png": "[encoded data removed]",
            "text/plain": [
              "<Figure size 1296x504 with 2 Axes>"
            ]
          },
          "metadata": {
            "tags": [],
            "needs_background": "light"
          }
        }
      ]
    },
    {
      "cell_type": "markdown",
      "metadata": {
        "id": "XKIfLU55XHqn"
      },
      "source": [
        "### 3. Euribor3m:"
      ]
    },
    {
      "cell_type": "code",
      "metadata": {
        "colab": {
          "base_uri": "https://localhost:8080/"
        },
        "id": "HEZP6hM-VkkA",
        "outputId": "9f18ba11-3c9e-4716-e42d-71af2259b981"
      },
      "source": [
        "sns.distplot(df['euribor3m'], hist=True, hist_kws = {'edgecolor':'black'})\n",
        "plt.show()"
      ],
      "execution_count": null,
      "outputs": [
        {
          "output_type": "display_data",
          "data": {
            "image/png": "[encoded data removed]",
            "text/plain": [
              "<Figure size 432x288 with 1 Axes>"
            ]
          },
          "metadata": {
            "tags": [],
            "needs_background": "light"
          }
        }
      ]
    },
    {
      "cell_type": "markdown",
      "metadata": {
        "id": "YMuvGUx0XQBf"
      },
      "source": [
        "### 4. Nr.employed:"
      ]
    },
    {
      "cell_type": "code",
      "metadata": {
        "colab": {
          "base_uri": "https://localhost:8080/"
        },
        "id": "3_hcpDBoWR8G",
        "outputId": "5c73e17e-a3fc-4504-d39e-3e1e972717b1"
      },
      "source": [
        "plt.figure(figsize=(15, 7))\n",
        "ax=sns.countplot(data=df, x='nr.employed')\n",
        "label_values(ax)\n",
        "plt.show()"
      ],
      "execution_count": null,
      "outputs": [
        {
          "output_type": "display_data",
          "data": {
            "image/png": "[encoded data removed]",
            "text/plain": [
              "<Figure size 1080x504 with 1 Axes>"
            ]
          },
          "metadata": {
            "tags": [],
            "needs_background": "light"
          }
        }
      ]
    },
    {
      "cell_type": "markdown",
      "metadata": {
        "id": "5GmBBPQNIp4n"
      },
      "source": [
        "## Other attributes:"
      ]
    },
    {
      "cell_type": "markdown",
      "metadata": {
        "id": "r6v91cjcYWpO"
      },
      "source": [
        "### 1. Campaign:  \n",
        "*Chỉ dùng phân tích, không dùng cho mô hình dự đoán. Vì số lần liên lạc không được biết trước.*"
      ]
    },
    {
      "cell_type": "code",
      "metadata": {
        "colab": {
          "base_uri": "https://localhost:8080/"
        },
        "id": "x7p-FBf5YcZt",
        "outputId": "e5326f65-23a7-460e-c92c-19a34e1bed8c"
      },
      "source": [
        "plt.figure(figsize=(18, 7))\n",
        "\n",
        "plt.subplot(1, 2, 1)\n",
        "sns.boxplot(data=df, x='campaign')\n",
        "\n",
        "plt.subplot(1, 2, 2)\n",
        "sns.distplot(df['campaign'], hist=True, hist_kws = {'edgecolor':'black'})\n",
        "\n",
        "plt.show()"
      ],
      "execution_count": null,
      "outputs": [
        {
          "output_type": "display_data",
          "data": {
            "image/png": "[encoded data removed]",
            "text/plain": [
              "<Figure size 1296x504 with 2 Axes>"
            ]
          },
          "metadata": {
            "tags": [],
            "needs_background": "light"
          }
        }
      ]
    },
    {
      "cell_type": "markdown",
      "metadata": {
        "id": "le1ydyic1_NP"
      },
      "source": [
        "### 2. Pdays:"
      ]
    },
    {
      "cell_type": "code",
      "metadata": {
        "colab": {
          "base_uri": "https://localhost:8080/"
        },
        "id": "x2ug8wN82Q0B",
        "outputId": "8c08b330-9a03-454f-f33f-92841f24de4c"
      },
      "source": [
        "plt.figure(figsize=(18, 7))\n",
        "\n",
        "plt.subplot(1, 2, 1)\n",
        "sns.distplot(df[df['y']=='yes']['pdays'], hist=True, hist_kws = {'edgecolor':'black'})\n",
        "\n",
        "plt.subplot(1, 2, 2)\n",
        "sns.distplot(df[df['y']=='no']['pdays'], hist=True, hist_kws = {'edgecolor':'black'}, color='red')\n",
        "\n",
        "plt.show()"
      ],
      "execution_count": null,
      "outputs": [
        {
          "output_type": "display_data",
          "data": {
            "image/png": "[encoded data removed]",
            "text/plain": [
              "<Figure size 1296x504 with 2 Axes>"
            ]
          },
          "metadata": {
            "tags": [],
            "needs_background": "light"
          }
        }
      ]
    },
    {
      "cell_type": "markdown",
      "metadata": {
        "id": "a9aHPfsz3phQ"
      },
      "source": [
        "`1.` Tỉ lệ \"yes\" sau 0 ngày liên lạc cao hơn rất nhiều so với \"no\".  \n",
        "`2.` **999** là khách hàng chưa được liên hệ trước đây."
      ]
    },
    {
      "cell_type": "markdown",
      "metadata": {
        "id": "vAB3qVXF9bYo"
      },
      "source": [
        "### 3. Previous:"
      ]
    },
    {
      "cell_type": "code",
      "metadata": {
        "colab": {
          "base_uri": "https://localhost:8080/"
        },
        "id": "UfYJZbVg3-hL",
        "outputId": "cfe9d077-a49a-4e83-ed74-e521140bd70a"
      },
      "source": [
        "df['previous'].value_counts()"
      ],
      "execution_count": null,
      "outputs": [
        {
          "output_type": "execute_result",
          "data": {
            "text/plain": [
              "0    35563\n",
              "1     4561\n",
              "2      754\n",
              "3      216\n",
              "4       70\n",
              "5       18\n",
              "6        5\n",
              "7        1\n",
              "Name: previous, dtype: int64"
            ]
          },
          "metadata": {
            "tags": []
          },
          "execution_count": 246
        }
      ]
    },
    {
      "cell_type": "code",
      "metadata": {
        "colab": {
          "base_uri": "https://localhost:8080/"
        },
        "id": "DdlXl-p59iAS",
        "outputId": "32492d0c-53d0-497b-b152-f28220568e1a"
      },
      "source": [
        "sns.histplot(df['previous'])"
      ],
      "execution_count": null,
      "outputs": [
        {
          "output_type": "execute_result",
          "data": {
            "text/plain": [
              "<matplotlib.axes._subplots.AxesSubplot at 0x7f406a2d6a10>"
            ]
          },
          "metadata": {
            "tags": []
          },
          "execution_count": 247
        },
        {
          "output_type": "display_data",
          "data": {
            "image/png": "[encoded data removed]",
            "text/plain": [
              "<Figure size 432x288 with 1 Axes>"
            ]
          },
          "metadata": {
            "tags": [],
            "needs_background": "light"
          }
        }
      ]
    },
    {
      "cell_type": "markdown",
      "metadata": {
        "id": "KdHI_c3a-AiI"
      },
      "source": [
        "### 4. Poutcome:"
      ]
    },
    {
      "cell_type": "code",
      "metadata": {
        "colab": {
          "base_uri": "https://localhost:8080/"
        },
        "id": "7I5AndNj-Djt",
        "outputId": "212a9a82-c301-425e-a981-0b52f778e11f"
      },
      "source": [
        "plt.figure(figsize=(6, 7))\n",
        "ax=sns.countplot(data=df, x='poutcome')\n",
        "label_values(ax)\n",
        "plt.show()"
      ],
      "execution_count": null,
      "outputs": [
        {
          "output_type": "display_data",
          "data": {
            "image/png": "[encoded data removed]",
            "text/plain": [
              "<Figure size 432x504 with 1 Axes>"
            ]
          },
          "metadata": {
            "tags": [],
            "needs_background": "light"
          }
        }
      ]
    },
    {
      "cell_type": "markdown",
      "metadata": {
        "id": "qpqaWiun-kId"
      },
      "source": [
        "# Categorical treatment:"
      ]
    },
    {
      "cell_type": "markdown",
      "metadata": {
        "id": "bOMe-ebL_8_O"
      },
      "source": [
        "## 1. Bank client data:"
      ]
    },
    {
      "cell_type": "code",
      "metadata": {
        "colab": {
          "base_uri": "https://localhost:8080/"
        },
        "id": "BXehp6cI_jZT",
        "outputId": "0292268d-7ae4-4e4e-c6b4-be5647a12756"
      },
      "source": [
        "df_bcd = df.iloc[: , 0:7]\n",
        "df_bcd.head()"
      ],
      "execution_count": null,
      "outputs": [
        {
          "output_type": "execute_result",
          "data": {
            "text/html": [
              "<div>\n",
              "<style scoped>\n",
              "    .dataframe tbody tr th:only-of-type {\n",
              "        vertical-align: middle;\n",
              "    }\n",
              "\n",
              "    .dataframe tbody tr th {\n",
              "        vertical-align: top;\n",
              "    }\n",
              "\n",
              "    .dataframe thead th {\n",
              "        text-align: right;\n",
              "    }\n",
              "</style>\n",
              "<table border=\"1\" class=\"dataframe\">\n",
              "  <thead>\n",
              "    <tr style=\"text-align: right;\">\n",
              "      <th></th>\n",
              "      <th>age</th>\n",
              "      <th>job</th>\n",
              "      <th>marital</th>\n",
              "      <th>education</th>\n",
              "      <th>default</th>\n",
              "      <th>housing</th>\n",
              "      <th>loan</th>\n",
              "    </tr>\n",
              "  </thead>\n",
              "  <tbody>\n",
              "    <tr>\n",
              "      <th>0</th>\n",
              "      <td>56</td>\n",
              "      <td>housemaid</td>\n",
              "      <td>married</td>\n",
              "      <td>basic.4y</td>\n",
              "      <td>no</td>\n",
              "      <td>no</td>\n",
              "      <td>no</td>\n",
              "    </tr>\n",
              "    <tr>\n",
              "      <th>1</th>\n",
              "      <td>57</td>\n",
              "      <td>services</td>\n",
              "      <td>married</td>\n",
              "      <td>high.school</td>\n",
              "      <td>unknown</td>\n",
              "      <td>no</td>\n",
              "      <td>no</td>\n",
              "    </tr>\n",
              "    <tr>\n",
              "      <th>2</th>\n",
              "      <td>37</td>\n",
              "      <td>services</td>\n",
              "      <td>married</td>\n",
              "      <td>high.school</td>\n",
              "      <td>no</td>\n",
              "      <td>yes</td>\n",
              "      <td>no</td>\n",
              "    </tr>\n",
              "    <tr>\n",
              "      <th>3</th>\n",
              "      <td>40</td>\n",
              "      <td>admin.</td>\n",
              "      <td>married</td>\n",
              "      <td>basic.6y</td>\n",
              "      <td>no</td>\n",
              "      <td>no</td>\n",
              "      <td>no</td>\n",
              "    </tr>\n",
              "    <tr>\n",
              "      <th>4</th>\n",
              "      <td>56</td>\n",
              "      <td>services</td>\n",
              "      <td>married</td>\n",
              "      <td>high.school</td>\n",
              "      <td>no</td>\n",
              "      <td>no</td>\n",
              "      <td>yes</td>\n",
              "    </tr>\n",
              "  </tbody>\n",
              "</table>\n",
              "</div>"
            ],
            "text/plain": [
              "   age        job  marital    education  default housing loan\n",
              "0   56  housemaid  married     basic.4y       no      no   no\n",
              "1   57   services  married  high.school  unknown      no   no\n",
              "2   37   services  married  high.school       no     yes   no\n",
              "3   40     admin.  married     basic.6y       no      no   no\n",
              "4   56   services  married  high.school       no      no  yes"
            ]
          },
          "metadata": {
            "tags": []
          },
          "execution_count": 249
        }
      ]
    },
    {
      "cell_type": "code",
      "metadata": {
        "id": "Ce85FD16-q1A"
      },
      "source": [
        "def age_group(dataframe):\n",
        "    dataframe.loc[dataframe['age'] <= 32, 'age'] = 1\n",
        "    dataframe.loc[(dataframe['age'] > 32) & (dataframe['age'] <= 47), 'age'] = 2\n",
        "    dataframe.loc[(dataframe['age'] > 47) & (dataframe['age'] <= 70), 'age'] = 3\n",
        "    dataframe.loc[(dataframe['age'] > 70), 'age'] = 4\n",
        "           \n",
        "    return dataframe"
      ],
      "execution_count": null,
      "outputs": []
    },
    {
      "cell_type": "code",
      "metadata": {
        "colab": {
          "base_uri": "https://localhost:8080/"
        },
        "id": "rh1PKDgNB_m8",
        "outputId": "49754b38-c160-46b2-a02d-2315aeedfb4f"
      },
      "source": [
        "age_group(df_bcd)\n",
        "df_bcd.head()"
      ],
      "execution_count": null,
      "outputs": [
        {
          "output_type": "execute_result",
          "data": {
            "text/html": [
              "<div>\n",
              "<style scoped>\n",
              "    .dataframe tbody tr th:only-of-type {\n",
              "        vertical-align: middle;\n",
              "    }\n",
              "\n",
              "    .dataframe tbody tr th {\n",
              "        vertical-align: top;\n",
              "    }\n",
              "\n",
              "    .dataframe thead th {\n",
              "        text-align: right;\n",
              "    }\n",
              "</style>\n",
              "<table border=\"1\" class=\"dataframe\">\n",
              "  <thead>\n",
              "    <tr style=\"text-align: right;\">\n",
              "      <th></th>\n",
              "      <th>age</th>\n",
              "      <th>job</th>\n",
              "      <th>marital</th>\n",
              "      <th>education</th>\n",
              "      <th>default</th>\n",
              "      <th>housing</th>\n",
              "      <th>loan</th>\n",
              "    </tr>\n",
              "  </thead>\n",
              "  <tbody>\n",
              "    <tr>\n",
              "      <th>0</th>\n",
              "      <td>3</td>\n",
              "      <td>housemaid</td>\n",
              "      <td>married</td>\n",
              "      <td>basic.4y</td>\n",
              "      <td>no</td>\n",
              "      <td>no</td>\n",
              "      <td>no</td>\n",
              "    </tr>\n",
              "    <tr>\n",
              "      <th>1</th>\n",
              "      <td>3</td>\n",
              "      <td>services</td>\n",
              "      <td>married</td>\n",
              "      <td>high.school</td>\n",
              "      <td>unknown</td>\n",
              "      <td>no</td>\n",
              "      <td>no</td>\n",
              "    </tr>\n",
              "    <tr>\n",
              "      <th>2</th>\n",
              "      <td>2</td>\n",
              "      <td>services</td>\n",
              "      <td>married</td>\n",
              "      <td>high.school</td>\n",
              "      <td>no</td>\n",
              "      <td>yes</td>\n",
              "      <td>no</td>\n",
              "    </tr>\n",
              "    <tr>\n",
              "      <th>3</th>\n",
              "      <td>2</td>\n",
              "      <td>admin.</td>\n",
              "      <td>married</td>\n",
              "      <td>basic.6y</td>\n",
              "      <td>no</td>\n",
              "      <td>no</td>\n",
              "      <td>no</td>\n",
              "    </tr>\n",
              "    <tr>\n",
              "      <th>4</th>\n",
              "      <td>3</td>\n",
              "      <td>services</td>\n",
              "      <td>married</td>\n",
              "      <td>high.school</td>\n",
              "      <td>no</td>\n",
              "      <td>no</td>\n",
              "      <td>yes</td>\n",
              "    </tr>\n",
              "  </tbody>\n",
              "</table>\n",
              "</div>"
            ],
            "text/plain": [
              "   age        job  marital    education  default housing loan\n",
              "0    3  housemaid  married     basic.4y       no      no   no\n",
              "1    3   services  married  high.school  unknown      no   no\n",
              "2    2   services  married  high.school       no     yes   no\n",
              "3    2     admin.  married     basic.6y       no      no   no\n",
              "4    3   services  married  high.school       no      no  yes"
            ]
          },
          "metadata": {
            "tags": []
          },
          "execution_count": 251
        }
      ]
    },
    {
      "cell_type": "code",
      "metadata": {
        "id": "l685Wu5JAVk5"
      },
      "source": [
        "from sklearn.preprocessing import LabelEncoder # Encode theo thứ tự chữ cái.\n",
        "LE = LabelEncoder()"
      ],
      "execution_count": null,
      "outputs": []
    },
    {
      "cell_type": "code",
      "metadata": {
        "colab": {
          "base_uri": "https://localhost:8080/"
        },
        "id": "6RFe4Y3MA8DD",
        "outputId": "7ae6e8d9-55c0-45a0-9ba5-e84dd2becbeb"
      },
      "source": [
        "df_bcd['job'] = LE.fit_transform(df_bcd['job']) \n",
        "df_bcd['marital'] = LE.fit_transform(df_bcd['marital']) \n",
        "df_bcd['education'] = LE.fit_transform(df_bcd['education']) \n",
        "df_bcd['default'] = LE.fit_transform(df_bcd['default']) \n",
        "df_bcd['housing'] = LE.fit_transform(df_bcd['housing']) \n",
        "df_bcd['loan'] = LE.fit_transform(df_bcd['loan']) \n",
        "\n",
        "df_bcd.head()"
      ],
      "execution_count": null,
      "outputs": [
        {
          "output_type": "execute_result",
          "data": {
            "text/html": [
              "<div>\n",
              "<style scoped>\n",
              "    .dataframe tbody tr th:only-of-type {\n",
              "        vertical-align: middle;\n",
              "    }\n",
              "\n",
              "    .dataframe tbody tr th {\n",
              "        vertical-align: top;\n",
              "    }\n",
              "\n",
              "    .dataframe thead th {\n",
              "        text-align: right;\n",
              "    }\n",
              "</style>\n",
              "<table border=\"1\" class=\"dataframe\">\n",
              "  <thead>\n",
              "    <tr style=\"text-align: right;\">\n",
              "      <th></th>\n",
              "      <th>age</th>\n",
              "      <th>job</th>\n",
              "      <th>marital</th>\n",
              "      <th>education</th>\n",
              "      <th>default</th>\n",
              "      <th>housing</th>\n",
              "      <th>loan</th>\n",
              "    </tr>\n",
              "  </thead>\n",
              "  <tbody>\n",
              "    <tr>\n",
              "      <th>0</th>\n",
              "      <td>3</td>\n",
              "      <td>3</td>\n",
              "      <td>1</td>\n",
              "      <td>0</td>\n",
              "      <td>0</td>\n",
              "      <td>0</td>\n",
              "      <td>0</td>\n",
              "    </tr>\n",
              "    <tr>\n",
              "      <th>1</th>\n",
              "      <td>3</td>\n",
              "      <td>7</td>\n",
              "      <td>1</td>\n",
              "      <td>3</td>\n",
              "      <td>1</td>\n",
              "      <td>0</td>\n",
              "      <td>0</td>\n",
              "    </tr>\n",
              "    <tr>\n",
              "      <th>2</th>\n",
              "      <td>2</td>\n",
              "      <td>7</td>\n",
              "      <td>1</td>\n",
              "      <td>3</td>\n",
              "      <td>0</td>\n",
              "      <td>2</td>\n",
              "      <td>0</td>\n",
              "    </tr>\n",
              "    <tr>\n",
              "      <th>3</th>\n",
              "      <td>2</td>\n",
              "      <td>0</td>\n",
              "      <td>1</td>\n",
              "      <td>1</td>\n",
              "      <td>0</td>\n",
              "      <td>0</td>\n",
              "      <td>0</td>\n",
              "    </tr>\n",
              "    <tr>\n",
              "      <th>4</th>\n",
              "      <td>3</td>\n",
              "      <td>7</td>\n",
              "      <td>1</td>\n",
              "      <td>3</td>\n",
              "      <td>0</td>\n",
              "      <td>0</td>\n",
              "      <td>2</td>\n",
              "    </tr>\n",
              "  </tbody>\n",
              "</table>\n",
              "</div>"
            ],
            "text/plain": [
              "   age  job  marital  education  default  housing  loan\n",
              "0    3    3        1          0        0        0     0\n",
              "1    3    7        1          3        1        0     0\n",
              "2    2    7        1          3        0        2     0\n",
              "3    2    0        1          1        0        0     0\n",
              "4    3    7        1          3        0        0     2"
            ]
          },
          "metadata": {
            "tags": []
          },
          "execution_count": 253
        }
      ]
    },
    {
      "cell_type": "markdown",
      "metadata": {
        "id": "nfpbbT6vBgsO"
      },
      "source": [
        "## 2. Related with the last contact of the current campaign:"
      ]
    },
    {
      "cell_type": "code",
      "metadata": {
        "colab": {
          "base_uri": "https://localhost:8080/"
        },
        "id": "ITeeI2yMBZ7E",
        "outputId": "f0aa0739-320d-4af4-c622-265bf0f325d2"
      },
      "source": [
        "df_related = df.iloc[: , 7:10] # bỏ duration\n",
        "df_related.head()"
      ],
      "execution_count": null,
      "outputs": [
        {
          "output_type": "execute_result",
          "data": {
            "text/html": [
              "<div>\n",
              "<style scoped>\n",
              "    .dataframe tbody tr th:only-of-type {\n",
              "        vertical-align: middle;\n",
              "    }\n",
              "\n",
              "    .dataframe tbody tr th {\n",
              "        vertical-align: top;\n",
              "    }\n",
              "\n",
              "    .dataframe thead th {\n",
              "        text-align: right;\n",
              "    }\n",
              "</style>\n",
              "<table border=\"1\" class=\"dataframe\">\n",
              "  <thead>\n",
              "    <tr style=\"text-align: right;\">\n",
              "      <th></th>\n",
              "      <th>contact</th>\n",
              "      <th>month</th>\n",
              "      <th>day_of_week</th>\n",
              "    </tr>\n",
              "  </thead>\n",
              "  <tbody>\n",
              "    <tr>\n",
              "      <th>0</th>\n",
              "      <td>telephone</td>\n",
              "      <td>may</td>\n",
              "      <td>mon</td>\n",
              "    </tr>\n",
              "    <tr>\n",
              "      <th>1</th>\n",
              "      <td>telephone</td>\n",
              "      <td>may</td>\n",
              "      <td>mon</td>\n",
              "    </tr>\n",
              "    <tr>\n",
              "      <th>2</th>\n",
              "      <td>telephone</td>\n",
              "      <td>may</td>\n",
              "      <td>mon</td>\n",
              "    </tr>\n",
              "    <tr>\n",
              "      <th>3</th>\n",
              "      <td>telephone</td>\n",
              "      <td>may</td>\n",
              "      <td>mon</td>\n",
              "    </tr>\n",
              "    <tr>\n",
              "      <th>4</th>\n",
              "      <td>telephone</td>\n",
              "      <td>may</td>\n",
              "      <td>mon</td>\n",
              "    </tr>\n",
              "  </tbody>\n",
              "</table>\n",
              "</div>"
            ],
            "text/plain": [
              "     contact month day_of_week\n",
              "0  telephone   may         mon\n",
              "1  telephone   may         mon\n",
              "2  telephone   may         mon\n",
              "3  telephone   may         mon\n",
              "4  telephone   may         mon"
            ]
          },
          "metadata": {
            "tags": []
          },
          "execution_count": 254
        }
      ]
    },
    {
      "cell_type": "code",
      "metadata": {
        "colab": {
          "base_uri": "https://localhost:8080/"
        },
        "id": "ChGH_95CDNV7",
        "outputId": "f3d0c1b2-8d80-49c8-e736-514acab4f707"
      },
      "source": [
        "print(df_related['month'].unique())\n",
        "print(df_related['day_of_week'].unique())"
      ],
      "execution_count": null,
      "outputs": [
        {
          "output_type": "stream",
          "text": [
            "['may' 'jun' 'jul' 'aug' 'oct' 'nov' 'dec' 'mar' 'apr' 'sep']\n",
            "['mon' 'tue' 'wed' 'thu' 'fri']\n"
          ],
          "name": "stdout"
        }
      ]
    },
    {
      "cell_type": "code",
      "metadata": {
        "colab": {
          "base_uri": "https://localhost:8080/"
        },
        "id": "-Uc-3IG7Cn9e",
        "outputId": "a5f1e411-ddaa-495d-e948-5a6c200ea15d"
      },
      "source": [
        "df_related['contact'] = LE.fit_transform(df_related['contact'])\n",
        "\n",
        "map_month = {'may': 5,'jun': 6,'jul': 7,'aug': 8,'oct': 10,'nov': 11,'dec': 12, 'mar': 3,'apr': 4,'sep': 9}\n",
        "df_related['month'] = df_related['month'].map(map_month)\n",
        "\n",
        "map_day = {'mon': 2, 'tue': 3, 'wed': 4, 'thu': 5, 'fri': 6}\n",
        "df_related['day_of_week'] = df_related['day_of_week'].map(map_day)\n",
        "\n",
        "\n",
        "df_related.head()"
      ],
      "execution_count": null,
      "outputs": [
        {
          "output_type": "execute_result",
          "data": {
            "text/html": [
              "<div>\n",
              "<style scoped>\n",
              "    .dataframe tbody tr th:only-of-type {\n",
              "        vertical-align: middle;\n",
              "    }\n",
              "\n",
              "    .dataframe tbody tr th {\n",
              "        vertical-align: top;\n",
              "    }\n",
              "\n",
              "    .dataframe thead th {\n",
              "        text-align: right;\n",
              "    }\n",
              "</style>\n",
              "<table border=\"1\" class=\"dataframe\">\n",
              "  <thead>\n",
              "    <tr style=\"text-align: right;\">\n",
              "      <th></th>\n",
              "      <th>contact</th>\n",
              "      <th>month</th>\n",
              "      <th>day_of_week</th>\n",
              "    </tr>\n",
              "  </thead>\n",
              "  <tbody>\n",
              "    <tr>\n",
              "      <th>0</th>\n",
              "      <td>1</td>\n",
              "      <td>5</td>\n",
              "      <td>2</td>\n",
              "    </tr>\n",
              "    <tr>\n",
              "      <th>1</th>\n",
              "      <td>1</td>\n",
              "      <td>5</td>\n",
              "      <td>2</td>\n",
              "    </tr>\n",
              "    <tr>\n",
              "      <th>2</th>\n",
              "      <td>1</td>\n",
              "      <td>5</td>\n",
              "      <td>2</td>\n",
              "    </tr>\n",
              "    <tr>\n",
              "      <th>3</th>\n",
              "      <td>1</td>\n",
              "      <td>5</td>\n",
              "      <td>2</td>\n",
              "    </tr>\n",
              "    <tr>\n",
              "      <th>4</th>\n",
              "      <td>1</td>\n",
              "      <td>5</td>\n",
              "      <td>2</td>\n",
              "    </tr>\n",
              "  </tbody>\n",
              "</table>\n",
              "</div>"
            ],
            "text/plain": [
              "   contact  month  day_of_week\n",
              "0        1      5            2\n",
              "1        1      5            2\n",
              "2        1      5            2\n",
              "3        1      5            2\n",
              "4        1      5            2"
            ]
          },
          "metadata": {
            "tags": []
          },
          "execution_count": 256
        }
      ]
    },
    {
      "cell_type": "markdown",
      "metadata": {
        "id": "DQVE08kVJH2H"
      },
      "source": [
        "## 3. Other attributes:"
      ]
    },
    {
      "cell_type": "code",
      "metadata": {
        "colab": {
          "base_uri": "https://localhost:8080/"
        },
        "id": "z-1g2yYeJNhk",
        "outputId": "cbb06374-5ff6-4be0-8dfe-d627b8e85554"
      },
      "source": [
        "df_o = df.iloc[: , 12:15] # bỏ campaign\n",
        "df_o.head()"
      ],
      "execution_count": null,
      "outputs": [
        {
          "output_type": "execute_result",
          "data": {
            "text/html": [
              "<div>\n",
              "<style scoped>\n",
              "    .dataframe tbody tr th:only-of-type {\n",
              "        vertical-align: middle;\n",
              "    }\n",
              "\n",
              "    .dataframe tbody tr th {\n",
              "        vertical-align: top;\n",
              "    }\n",
              "\n",
              "    .dataframe thead th {\n",
              "        text-align: right;\n",
              "    }\n",
              "</style>\n",
              "<table border=\"1\" class=\"dataframe\">\n",
              "  <thead>\n",
              "    <tr style=\"text-align: right;\">\n",
              "      <th></th>\n",
              "      <th>pdays</th>\n",
              "      <th>previous</th>\n",
              "      <th>poutcome</th>\n",
              "    </tr>\n",
              "  </thead>\n",
              "  <tbody>\n",
              "    <tr>\n",
              "      <th>0</th>\n",
              "      <td>999</td>\n",
              "      <td>0</td>\n",
              "      <td>nonexistent</td>\n",
              "    </tr>\n",
              "    <tr>\n",
              "      <th>1</th>\n",
              "      <td>999</td>\n",
              "      <td>0</td>\n",
              "      <td>nonexistent</td>\n",
              "    </tr>\n",
              "    <tr>\n",
              "      <th>2</th>\n",
              "      <td>999</td>\n",
              "      <td>0</td>\n",
              "      <td>nonexistent</td>\n",
              "    </tr>\n",
              "    <tr>\n",
              "      <th>3</th>\n",
              "      <td>999</td>\n",
              "      <td>0</td>\n",
              "      <td>nonexistent</td>\n",
              "    </tr>\n",
              "    <tr>\n",
              "      <th>4</th>\n",
              "      <td>999</td>\n",
              "      <td>0</td>\n",
              "      <td>nonexistent</td>\n",
              "    </tr>\n",
              "  </tbody>\n",
              "</table>\n",
              "</div>"
            ],
            "text/plain": [
              "   pdays  previous     poutcome\n",
              "0    999         0  nonexistent\n",
              "1    999         0  nonexistent\n",
              "2    999         0  nonexistent\n",
              "3    999         0  nonexistent\n",
              "4    999         0  nonexistent"
            ]
          },
          "metadata": {
            "tags": []
          },
          "execution_count": 257
        }
      ]
    },
    {
      "cell_type": "code",
      "metadata": {
        "colab": {
          "base_uri": "https://localhost:8080/"
        },
        "id": "P_2_2UjbKbIH",
        "outputId": "1150f4e8-abee-448a-8155-83faaddb9e42"
      },
      "source": [
        "df_o['poutcome'].unique()"
      ],
      "execution_count": null,
      "outputs": [
        {
          "output_type": "execute_result",
          "data": {
            "text/plain": [
              "array(['nonexistent', 'failure', 'success'], dtype=object)"
            ]
          },
          "metadata": {
            "tags": []
          },
          "execution_count": 258
        }
      ]
    },
    {
      "cell_type": "code",
      "metadata": {
        "colab": {
          "base_uri": "https://localhost:8080/"
        },
        "id": "EFoMN2nRKWrH",
        "outputId": "4baf7564-73f1-4a0b-b7ae-93967fde39bc"
      },
      "source": [
        "map_poutcome = {'nonexistent': 1, 'failure': 2, 'success': 3}\n",
        "df_o['poutcome'] = df_o['poutcome'].map(map_poutcome)\n",
        "df_o.head()"
      ],
      "execution_count": null,
      "outputs": [
        {
          "output_type": "execute_result",
          "data": {
            "text/html": [
              "<div>\n",
              "<style scoped>\n",
              "    .dataframe tbody tr th:only-of-type {\n",
              "        vertical-align: middle;\n",
              "    }\n",
              "\n",
              "    .dataframe tbody tr th {\n",
              "        vertical-align: top;\n",
              "    }\n",
              "\n",
              "    .dataframe thead th {\n",
              "        text-align: right;\n",
              "    }\n",
              "</style>\n",
              "<table border=\"1\" class=\"dataframe\">\n",
              "  <thead>\n",
              "    <tr style=\"text-align: right;\">\n",
              "      <th></th>\n",
              "      <th>pdays</th>\n",
              "      <th>previous</th>\n",
              "      <th>poutcome</th>\n",
              "    </tr>\n",
              "  </thead>\n",
              "  <tbody>\n",
              "    <tr>\n",
              "      <th>0</th>\n",
              "      <td>999</td>\n",
              "      <td>0</td>\n",
              "      <td>1</td>\n",
              "    </tr>\n",
              "    <tr>\n",
              "      <th>1</th>\n",
              "      <td>999</td>\n",
              "      <td>0</td>\n",
              "      <td>1</td>\n",
              "    </tr>\n",
              "    <tr>\n",
              "      <th>2</th>\n",
              "      <td>999</td>\n",
              "      <td>0</td>\n",
              "      <td>1</td>\n",
              "    </tr>\n",
              "    <tr>\n",
              "      <th>3</th>\n",
              "      <td>999</td>\n",
              "      <td>0</td>\n",
              "      <td>1</td>\n",
              "    </tr>\n",
              "    <tr>\n",
              "      <th>4</th>\n",
              "      <td>999</td>\n",
              "      <td>0</td>\n",
              "      <td>1</td>\n",
              "    </tr>\n",
              "  </tbody>\n",
              "</table>\n",
              "</div>"
            ],
            "text/plain": [
              "   pdays  previous  poutcome\n",
              "0    999         0         1\n",
              "1    999         0         1\n",
              "2    999         0         1\n",
              "3    999         0         1\n",
              "4    999         0         1"
            ]
          },
          "metadata": {
            "tags": []
          },
          "execution_count": 259
        }
      ]
    },
    {
      "cell_type": "markdown",
      "metadata": {
        "id": "SeEEKOwEKxLH"
      },
      "source": [
        "## Social and economic context attributes:"
      ]
    },
    {
      "cell_type": "code",
      "metadata": {
        "colab": {
          "base_uri": "https://localhost:8080/"
        },
        "id": "9HM4jedaKuXS",
        "outputId": "1d0e970e-eecc-4ef2-df53-7b88d51f340a"
      },
      "source": [
        "df_SE = df.iloc[: , 15:20]\n",
        "df_SE.head()"
      ],
      "execution_count": null,
      "outputs": [
        {
          "output_type": "execute_result",
          "data": {
            "text/html": [
              "<div>\n",
              "<style scoped>\n",
              "    .dataframe tbody tr th:only-of-type {\n",
              "        vertical-align: middle;\n",
              "    }\n",
              "\n",
              "    .dataframe tbody tr th {\n",
              "        vertical-align: top;\n",
              "    }\n",
              "\n",
              "    .dataframe thead th {\n",
              "        text-align: right;\n",
              "    }\n",
              "</style>\n",
              "<table border=\"1\" class=\"dataframe\">\n",
              "  <thead>\n",
              "    <tr style=\"text-align: right;\">\n",
              "      <th></th>\n",
              "      <th>emp.var.rate</th>\n",
              "      <th>cons.price.idx</th>\n",
              "      <th>cons.conf.idx</th>\n",
              "      <th>euribor3m</th>\n",
              "      <th>nr.employed</th>\n",
              "    </tr>\n",
              "  </thead>\n",
              "  <tbody>\n",
              "    <tr>\n",
              "      <th>0</th>\n",
              "      <td>1.1</td>\n",
              "      <td>93.994</td>\n",
              "      <td>-36.4</td>\n",
              "      <td>4.857</td>\n",
              "      <td>5191.0</td>\n",
              "    </tr>\n",
              "    <tr>\n",
              "      <th>1</th>\n",
              "      <td>1.1</td>\n",
              "      <td>93.994</td>\n",
              "      <td>-36.4</td>\n",
              "      <td>4.857</td>\n",
              "      <td>5191.0</td>\n",
              "    </tr>\n",
              "    <tr>\n",
              "      <th>2</th>\n",
              "      <td>1.1</td>\n",
              "      <td>93.994</td>\n",
              "      <td>-36.4</td>\n",
              "      <td>4.857</td>\n",
              "      <td>5191.0</td>\n",
              "    </tr>\n",
              "    <tr>\n",
              "      <th>3</th>\n",
              "      <td>1.1</td>\n",
              "      <td>93.994</td>\n",
              "      <td>-36.4</td>\n",
              "      <td>4.857</td>\n",
              "      <td>5191.0</td>\n",
              "    </tr>\n",
              "    <tr>\n",
              "      <th>4</th>\n",
              "      <td>1.1</td>\n",
              "      <td>93.994</td>\n",
              "      <td>-36.4</td>\n",
              "      <td>4.857</td>\n",
              "      <td>5191.0</td>\n",
              "    </tr>\n",
              "  </tbody>\n",
              "</table>\n",
              "</div>"
            ],
            "text/plain": [
              "   emp.var.rate  cons.price.idx  cons.conf.idx  euribor3m  nr.employed\n",
              "0           1.1          93.994          -36.4      4.857       5191.0\n",
              "1           1.1          93.994          -36.4      4.857       5191.0\n",
              "2           1.1          93.994          -36.4      4.857       5191.0\n",
              "3           1.1          93.994          -36.4      4.857       5191.0\n",
              "4           1.1          93.994          -36.4      4.857       5191.0"
            ]
          },
          "metadata": {
            "tags": []
          },
          "execution_count": 260
        }
      ]
    },
    {
      "cell_type": "markdown",
      "metadata": {
        "id": "OmsKIiXgL5tW"
      },
      "source": [
        "# Model:"
      ]
    },
    {
      "cell_type": "code",
      "metadata": {
        "id": "BQk-cfGTNefr"
      },
      "source": [
        "from sklearn.model_selection import StratifiedKFold\n",
        "from sklearn.model_selection import cross_val_score\n",
        "from sklearn.metrics import confusion_matrix, accuracy_score\n",
        "Sk_fold = StratifiedKFold(n_splits=10, shuffle=True, random_state=0)"
      ],
      "execution_count": null,
      "outputs": []
    },
    {
      "cell_type": "code",
      "metadata": {
        "colab": {
          "base_uri": "https://localhost:8080/",
          "height": 215
        },
        "id": "_QwG0B_2K9Ka",
        "outputId": "0504e18d-ce96-4cb1-f637-cba57d48bcb3"
      },
      "source": [
        "X= pd.concat([df_bcd, df_related, df_SE, df_o], axis = 1)\n",
        "X.head()"
      ],
      "execution_count": null,
      "outputs": [
        {
          "output_type": "execute_result",
          "data": {
            "text/html": [
              "<div>\n",
              "<style scoped>\n",
              "    .dataframe tbody tr th:only-of-type {\n",
              "        vertical-align: middle;\n",
              "    }\n",
              "\n",
              "    .dataframe tbody tr th {\n",
              "        vertical-align: top;\n",
              "    }\n",
              "\n",
              "    .dataframe thead th {\n",
              "        text-align: right;\n",
              "    }\n",
              "</style>\n",
              "<table border=\"1\" class=\"dataframe\">\n",
              "  <thead>\n",
              "    <tr style=\"text-align: right;\">\n",
              "      <th></th>\n",
              "      <th>age</th>\n",
              "      <th>job</th>\n",
              "      <th>marital</th>\n",
              "      <th>education</th>\n",
              "      <th>default</th>\n",
              "      <th>housing</th>\n",
              "      <th>loan</th>\n",
              "      <th>contact</th>\n",
              "      <th>month</th>\n",
              "      <th>day_of_week</th>\n",
              "      <th>emp.var.rate</th>\n",
              "      <th>cons.price.idx</th>\n",
              "      <th>cons.conf.idx</th>\n",
              "      <th>euribor3m</th>\n",
              "      <th>nr.employed</th>\n",
              "      <th>pdays</th>\n",
              "      <th>previous</th>\n",
              "      <th>poutcome</th>\n",
              "    </tr>\n",
              "  </thead>\n",
              "  <tbody>\n",
              "    <tr>\n",
              "      <th>0</th>\n",
              "      <td>3</td>\n",
              "      <td>3</td>\n",
              "      <td>1</td>\n",
              "      <td>0</td>\n",
              "      <td>0</td>\n",
              "      <td>0</td>\n",
              "      <td>0</td>\n",
              "      <td>1</td>\n",
              "      <td>5</td>\n",
              "      <td>2</td>\n",
              "      <td>1.1</td>\n",
              "      <td>93.994</td>\n",
              "      <td>-36.4</td>\n",
              "      <td>4.857</td>\n",
              "      <td>5191.0</td>\n",
              "      <td>999</td>\n",
              "      <td>0</td>\n",
              "      <td>1</td>\n",
              "    </tr>\n",
              "    <tr>\n",
              "      <th>1</th>\n",
              "      <td>3</td>\n",
              "      <td>7</td>\n",
              "      <td>1</td>\n",
              "      <td>3</td>\n",
              "      <td>1</td>\n",
              "      <td>0</td>\n",
              "      <td>0</td>\n",
              "      <td>1</td>\n",
              "      <td>5</td>\n",
              "      <td>2</td>\n",
              "      <td>1.1</td>\n",
              "      <td>93.994</td>\n",
              "      <td>-36.4</td>\n",
              "      <td>4.857</td>\n",
              "      <td>5191.0</td>\n",
              "      <td>999</td>\n",
              "      <td>0</td>\n",
              "      <td>1</td>\n",
              "    </tr>\n",
              "    <tr>\n",
              "      <th>2</th>\n",
              "      <td>2</td>\n",
              "      <td>7</td>\n",
              "      <td>1</td>\n",
              "      <td>3</td>\n",
              "      <td>0</td>\n",
              "      <td>2</td>\n",
              "      <td>0</td>\n",
              "      <td>1</td>\n",
              "      <td>5</td>\n",
              "      <td>2</td>\n",
              "      <td>1.1</td>\n",
              "      <td>93.994</td>\n",
              "      <td>-36.4</td>\n",
              "      <td>4.857</td>\n",
              "      <td>5191.0</td>\n",
              "      <td>999</td>\n",
              "      <td>0</td>\n",
              "      <td>1</td>\n",
              "    </tr>\n",
              "    <tr>\n",
              "      <th>3</th>\n",
              "      <td>2</td>\n",
              "      <td>0</td>\n",
              "      <td>1</td>\n",
              "      <td>1</td>\n",
              "      <td>0</td>\n",
              "      <td>0</td>\n",
              "      <td>0</td>\n",
              "      <td>1</td>\n",
              "      <td>5</td>\n",
              "      <td>2</td>\n",
              "      <td>1.1</td>\n",
              "      <td>93.994</td>\n",
              "      <td>-36.4</td>\n",
              "      <td>4.857</td>\n",
              "      <td>5191.0</td>\n",
              "      <td>999</td>\n",
              "      <td>0</td>\n",
              "      <td>1</td>\n",
              "    </tr>\n",
              "    <tr>\n",
              "      <th>4</th>\n",
              "      <td>3</td>\n",
              "      <td>7</td>\n",
              "      <td>1</td>\n",
              "      <td>3</td>\n",
              "      <td>0</td>\n",
              "      <td>0</td>\n",
              "      <td>2</td>\n",
              "      <td>1</td>\n",
              "      <td>5</td>\n",
              "      <td>2</td>\n",
              "      <td>1.1</td>\n",
              "      <td>93.994</td>\n",
              "      <td>-36.4</td>\n",
              "      <td>4.857</td>\n",
              "      <td>5191.0</td>\n",
              "      <td>999</td>\n",
              "      <td>0</td>\n",
              "      <td>1</td>\n",
              "    </tr>\n",
              "  </tbody>\n",
              "</table>\n",
              "</div>"
            ],
            "text/plain": [
              "   age  job  marital  education  ...  nr.employed  pdays  previous  poutcome\n",
              "0    3    3        1          0  ...       5191.0    999         0         1\n",
              "1    3    7        1          3  ...       5191.0    999         0         1\n",
              "2    2    7        1          3  ...       5191.0    999         0         1\n",
              "3    2    0        1          1  ...       5191.0    999         0         1\n",
              "4    3    7        1          3  ...       5191.0    999         0         1\n",
              "\n",
              "[5 rows x 18 columns]"
            ]
          },
          "metadata": {
            "tags": []
          },
          "execution_count": 262
        }
      ]
    },
    {
      "cell_type": "code",
      "metadata": {
        "colab": {
          "base_uri": "https://localhost:8080/"
        },
        "id": "F96O6AodMPmr",
        "outputId": "f81634a8-8d70-461b-e641-b2069df14c64"
      },
      "source": [
        "map_y = {'yes':0, 'no':1}\n",
        "y = df['y']\n",
        "y = y.map(map_y)\n",
        "y.head()"
      ],
      "execution_count": null,
      "outputs": [
        {
          "output_type": "execute_result",
          "data": {
            "text/plain": [
              "0    1\n",
              "1    1\n",
              "2    1\n",
              "3    1\n",
              "4    1\n",
              "Name: y, dtype: int64"
            ]
          },
          "metadata": {
            "tags": []
          },
          "execution_count": 263
        }
      ]
    },
    {
      "cell_type": "code",
      "metadata": {
        "colab": {
          "base_uri": "https://localhost:8080/"
        },
        "id": "cBm7BMU5FM68",
        "outputId": "16087705-69ab-49ab-bcba-842bd3181c44"
      },
      "source": [
        "y.value_counts()"
      ],
      "execution_count": null,
      "outputs": [
        {
          "output_type": "execute_result",
          "data": {
            "text/plain": [
              "1    36548\n",
              "0     4640\n",
              "Name: y, dtype: int64"
            ]
          },
          "metadata": {
            "tags": []
          },
          "execution_count": 264
        }
      ]
    },
    {
      "cell_type": "markdown",
      "metadata": {
        "id": "JHjqlLSQ4p5b"
      },
      "source": [
        "`1.` \"No\" cao hơn \"Yes\" rất nhiều.  \n",
        "`2.` \"Yes\" - **Positive** , \"No\" - **Negative**."
      ]
    },
    {
      "cell_type": "markdown",
      "metadata": {
        "id": "c2eYa-FHMboI"
      },
      "source": [
        "## 1. Split and Scale dataset:"
      ]
    },
    {
      "cell_type": "code",
      "metadata": {
        "id": "gof72WiVMWNH"
      },
      "source": [
        "from sklearn.model_selection import train_test_split\n",
        "X_train, X_test, y_train, y_test = train_test_split(X, y, test_size = 0.2, random_state = 101)"
      ],
      "execution_count": null,
      "outputs": []
    },
    {
      "cell_type": "code",
      "metadata": {
        "id": "kc3vYNVkQSND"
      },
      "source": [
        "from sklearn.preprocessing import StandardScaler\n",
        "sc_X = StandardScaler()\n",
        "X_train = sc_X.fit_transform(X_train)\n",
        "X_test = sc_X.transform(X_test)"
      ],
      "execution_count": null,
      "outputs": []
    },
    {
      "cell_type": "markdown",
      "metadata": {
        "id": "fopMHhybM_3t"
      },
      "source": [
        "## 2. Logistic regression:"
      ]
    },
    {
      "cell_type": "code",
      "metadata": {
        "colab": {
          "base_uri": "https://localhost:8080/"
        },
        "id": "H81bP9xtNDjN",
        "outputId": "ed347dc6-4998-4b5e-d692-72a6cf30cea9"
      },
      "source": [
        "from sklearn.linear_model import LogisticRegression\n",
        "logmodel = LogisticRegression() \n",
        "logmodel.fit(X_train,y_train)\n",
        "logpred = logmodel.predict(X_test)\n",
        "scores = cross_val_score(logmodel, X_train, y_train, cv=Sk_fold, n_jobs=1, scoring = 'accuracy')\n",
        "LGCV = scores.mean()\n",
        "\n",
        "print(confusion_matrix(y_test, logpred))\n",
        "print('Accuracy testset: %0.2f' % (round(accuracy_score(y_test, logpred),2)*100))\n",
        "print('Avg scores: %0.2f (+/- %0.2f)' % (scores.mean()*100, scores.std()*100))"
      ],
      "execution_count": null,
      "outputs": [
        {
          "output_type": "stream",
          "text": [
            "[[ 195  764]\n",
            " [  81 7198]]\n",
            "Accuracy testset: 90.00\n",
            "Avg accuracy: 90.03 (+/- 0.30)\n"
          ],
          "name": "stdout"
        }
      ]
    },
    {
      "cell_type": "markdown",
      "metadata": {
        "id": "KwFJxNrjODSy"
      },
      "source": [
        "## 3. KNN:"
      ]
    },
    {
      "cell_type": "code",
      "metadata": {
        "colab": {
          "base_uri": "https://localhost:8080/",
          "height": 716
        },
        "id": "M5-YTniNOmtK",
        "outputId": "c90c6884-eab3-4681-e33c-4df7de11d4a4"
      },
      "source": [
        "from sklearn import model_selection\n",
        "from sklearn.neighbors import KNeighborsClassifier\n",
        "\n",
        "X_trainK, X_testK, y_trainK, y_testK = train_test_split(X, y, test_size = 0.2, random_state = 42)\n",
        "\n",
        "neighbors = np.arange(0,25)\n",
        "\n",
        "cv_scores = []\n",
        "\n",
        "for k in neighbors:\n",
        "    k_value = k+1\n",
        "    knn = KNeighborsClassifier(n_neighbors = k_value, weights='uniform', p=2, metric='euclidean')\n",
        "    Skfold = StratifiedKFold(n_splits=10, random_state=123)\n",
        "    scores = cross_val_score(knn, X_trainK, y_trainK, cv=Skfold, scoring='accuracy')\n",
        "    cv_scores.append(scores.mean()*100)\n",
        "    print(\"k=%d, avg scores: %0.2f (+/- %0.2f)\" % (k_value, scores.mean()*100, scores.std()*100))\n",
        "\n",
        "optimal_k = neighbors[cv_scores.index(max(cv_scores)) + 1]\n",
        "print (\"The optimal number of neighbors is %d with %0.2f%%\" % (optimal_k, cv_scores[optimal_k - 1]))\n",
        "\n",
        "plt.plot(neighbors, cv_scores)\n",
        "plt.xlabel('Number of Neighbors K')\n",
        "plt.ylabel('Train Accuracy')\n",
        "plt.show()"
      ],
      "execution_count": null,
      "outputs": [
        {
          "output_type": "stream",
          "text": [
            "k=1, avg acuracy: 84.97 (+/- 0.57)\n",
            "k=2, avg acuracy: 80.79 (+/- 0.47)\n",
            "k=3, avg acuracy: 88.51 (+/- 0.45)\n",
            "k=4, avg acuracy: 87.58 (+/- 0.51)\n",
            "k=5, avg acuracy: 89.20 (+/- 0.30)\n",
            "k=6, avg acuracy: 88.78 (+/- 0.37)\n",
            "k=7, avg acuracy: 89.41 (+/- 0.34)\n",
            "k=8, avg acuracy: 89.23 (+/- 0.39)\n",
            "k=9, avg acuracy: 89.70 (+/- 0.39)\n",
            "k=10, avg acuracy: 89.44 (+/- 0.38)\n",
            "k=11, avg acuracy: 89.69 (+/- 0.41)\n",
            "k=12, avg acuracy: 89.49 (+/- 0.40)\n",
            "k=13, avg acuracy: 89.76 (+/- 0.45)\n",
            "k=14, avg acuracy: 89.54 (+/- 0.50)\n",
            "k=15, avg acuracy: 89.77 (+/- 0.52)\n",
            "k=16, avg acuracy: 89.68 (+/- 0.55)\n",
            "k=17, avg acuracy: 89.78 (+/- 0.44)\n",
            "k=18, avg acuracy: 89.71 (+/- 0.49)\n",
            "k=19, avg acuracy: 89.71 (+/- 0.45)\n",
            "k=20, avg acuracy: 89.63 (+/- 0.45)\n",
            "k=21, avg acuracy: 89.75 (+/- 0.40)\n",
            "k=22, avg acuracy: 89.72 (+/- 0.42)\n",
            "k=23, avg acuracy: 89.75 (+/- 0.39)\n",
            "k=24, avg acuracy: 89.67 (+/- 0.39)\n",
            "k=25, avg acuracy: 89.73 (+/- 0.35)\n",
            "The optimal number of neighbors is 17 with 89.78%\n"
          ],
          "name": "stdout"
        },
        {
          "output_type": "display_data",
          "data": {
            "image/png": "[encoded data removed]",
            "text/plain": [
              "<Figure size 432x288 with 1 Axes>"
            ]
          },
          "metadata": {
            "tags": [],
            "needs_background": "light"
          }
        }
      ]
    },
    {
      "cell_type": "code",
      "metadata": {
        "colab": {
          "base_uri": "https://localhost:8080/"
        },
        "id": "k66McMpVN4NP",
        "outputId": "134d456b-2787-4456-a3f9-d5aa969599d7"
      },
      "source": [
        "knn = KNeighborsClassifier(n_neighbors=optimal_k)\n",
        "knn.fit(X_train, y_train)\n",
        "knnpred = knn.predict(X_test)\n",
        "scores = cross_val_score(knn, X_train, y_train, cv=Sk_fold, n_jobs=1, scoring = 'accuracy')\n",
        "KNNCV = scores.mean()\n",
        "\n",
        "print(confusion_matrix(y_test, knnpred))\n",
        "print('Accuracy testset: %0.2f' % (round(accuracy_score(y_test, knnpred),2)*100))\n",
        "print('Avg scores: %0.2f (+/- %0.2f)' % (scores.mean()*100, scores.std()*100))"
      ],
      "execution_count": null,
      "outputs": [
        {
          "output_type": "stream",
          "text": [
            "[[ 235  724]\n",
            " [ 131 7148]]\n",
            "Accuracy testset: 90.00\n",
            "Avg accuracy: 89.86 (+/- 0.31)\n"
          ],
          "name": "stdout"
        }
      ]
    },
    {
      "cell_type": "markdown",
      "metadata": {
        "id": "Mcpt9OxURccj"
      },
      "source": [
        "## 4. Decision tree:"
      ]
    },
    {
      "cell_type": "code",
      "metadata": {
        "colab": {
          "base_uri": "https://localhost:8080/"
        },
        "id": "CKziiW9_RefX",
        "outputId": "bfcf543f-1c89-4c72-f772-795d630203c1"
      },
      "source": [
        "from sklearn.tree import DecisionTreeClassifier\n",
        "dtree = DecisionTreeClassifier(criterion='gini') #criterion = entopy, gini\n",
        "dtree.fit(X_train, y_train)\n",
        "dtreepred = dtree.predict(X_test)\n",
        "scores = cross_val_score(dtree, X_train, y_train, cv=Sk_fold, n_jobs=1, scoring = 'accuracy')\n",
        "DTCV = scores.mean()\n",
        "\n",
        "print(confusion_matrix(y_test, dtreepred))\n",
        "print('Accuracy testset: %0.2f' % (round(accuracy_score(y_test, dtreepred),2)*100))\n",
        "print('Avg scores: %0.2f (+/- %0.2f)' % (scores.mean()*100, scores.std()*100))"
      ],
      "execution_count": null,
      "outputs": [
        {
          "output_type": "stream",
          "text": [
            "[[ 322  637]\n",
            " [ 700 6579]]\n",
            "Accuracy testset: 84.00\n",
            "Avg accuracy: 84.03 (+/- 0.79)\n"
          ],
          "name": "stdout"
        }
      ]
    },
    {
      "cell_type": "markdown",
      "metadata": {
        "id": "CHSd25EgRnmu"
      },
      "source": [
        "## 5. Random Forest:"
      ]
    },
    {
      "cell_type": "code",
      "metadata": {
        "colab": {
          "base_uri": "https://localhost:8080/"
        },
        "id": "O7gdaDemRrgQ",
        "outputId": "f21632d2-ea35-4472-dd6a-de54954ee4dd"
      },
      "source": [
        "from sklearn.ensemble import RandomForestClassifier\n",
        "rfc = RandomForestClassifier(n_estimators = 200)\n",
        "rfc.fit(X_train, y_train)\n",
        "rfcpred = rfc.predict(X_test)\n",
        "scores = cross_val_score(rfc, X_train, y_train, cv=Sk_fold, n_jobs=1, scoring = 'accuracy')\n",
        "RFCV = scores.mean()\n",
        "\n",
        "print(confusion_matrix(y_test, rfcpred ))\n",
        "print('Accuracy testset: %0.2f' % (round(accuracy_score(y_test, rfcpred),2)*100))\n",
        "print('Avg scores: %0.2f (+/- %0.2f)' % (scores.mean()*100, scores.std()*100))"
      ],
      "execution_count": null,
      "outputs": [
        {
          "output_type": "stream",
          "text": [
            "[[ 292  667]\n",
            " [ 285 6994]]\n",
            "Accuracy testset: 88.00\n",
            "Avg accuracy: 88.70 (+/- 0.47)\n"
          ],
          "name": "stdout"
        }
      ]
    },
    {
      "cell_type": "markdown",
      "metadata": {
        "id": "o1RmB8PKSjqY"
      },
      "source": [
        "## 6. Naive bayes:"
      ]
    },
    {
      "cell_type": "code",
      "metadata": {
        "colab": {
          "base_uri": "https://localhost:8080/"
        },
        "id": "gBEVaU0xSmxY",
        "outputId": "c8d22a29-5c26-4e7d-a4f5-113f3f2d9a4c"
      },
      "source": [
        "from sklearn.naive_bayes import GaussianNB\n",
        "gaussiannb= GaussianNB()\n",
        "gaussiannb.fit(X_train, y_train)\n",
        "gaussiannbpred = gaussiannb.predict(X_test)\n",
        "probs = gaussiannb.predict(X_test)\n",
        "scores = cross_val_score(gaussiannb, X_train, y_train, cv=Sk_fold, n_jobs=1, scoring = 'accuracy')\n",
        "GNBCV = scores.mean()\n",
        "\n",
        "print(confusion_matrix(y_test, gaussiannbpred ))\n",
        "print('Accuracy testset: %0.2f' % (round(accuracy_score(y_test, gaussiannbpred),2)*100))\n",
        "print('Avg scores: %0.2f (+/- %0.2f)' % (scores.mean()*100, scores.std()*100))"
      ],
      "execution_count": null,
      "outputs": [
        {
          "output_type": "stream",
          "text": [
            "[[ 448  511]\n",
            " [ 790 6489]]\n",
            "Accuracy testset: 84.00\n",
            "Avg accuracy: 83.81 (+/- 0.71)\n"
          ],
          "name": "stdout"
        }
      ]
    },
    {
      "cell_type": "markdown",
      "metadata": {
        "id": "JCOH5mt5TaK_"
      },
      "source": [
        "## 7. XGBoost:"
      ]
    },
    {
      "cell_type": "code",
      "metadata": {
        "colab": {
          "base_uri": "https://localhost:8080/"
        },
        "id": "djrwvtvqTckN",
        "outputId": "35759631-b9dc-44ee-a474-3a65aafe5bd8"
      },
      "source": [
        "from xgboost import XGBClassifier\n",
        "xgb = XGBClassifier()\n",
        "xgb.fit(X_train, y_train)\n",
        "xgbprd = xgb.predict(X_test)\n",
        "scores = cross_val_score(xgb, X_train, y_train, cv = Sk_fold, n_jobs=1, scoring = 'accuracy')\n",
        "XGBCV = scores.mean()\n",
        "\n",
        "print(confusion_matrix(y_test, xgbprd ))\n",
        "print('Accuracy testset: %0.2f' % (round(accuracy_score(y_test, xgbprd),2)*100))\n",
        "print('Avg scores: %0.2f (+/- %0.2f)' % (scores.mean()*100, scores.std()*100))"
      ],
      "execution_count": null,
      "outputs": [
        {
          "output_type": "stream",
          "text": [
            "[[ 216  743]\n",
            " [  92 7187]]\n",
            "Accuracy testset: 90.00\n",
            "Avg accuracy: 90.12 (+/- 0.27)\n"
          ],
          "name": "stdout"
        }
      ]
    },
    {
      "cell_type": "markdown",
      "metadata": {
        "id": "2IfYrcaVT0xp"
      },
      "source": [
        "## 8. Gradient boosting:"
      ]
    },
    {
      "cell_type": "code",
      "metadata": {
        "colab": {
          "base_uri": "https://localhost:8080/"
        },
        "id": "ev_H87N6TkQy",
        "outputId": "225bb6a3-3814-4214-b70d-a5096867daa8"
      },
      "source": [
        "from sklearn.ensemble import GradientBoostingClassifier\n",
        "gbk = GradientBoostingClassifier()\n",
        "gbk.fit(X_train, y_train)\n",
        "gbkpred = gbk.predict(X_test)\n",
        "scores = cross_val_score(gbk, X_train, y_train, cv=Sk_fold, n_jobs=1, scoring = 'accuracy')\n",
        "GBCV = scores.mean()\n",
        "\n",
        "print(confusion_matrix(y_test, gbkpred ))\n",
        "print('Accuracy testset: %0.2f' % (round(accuracy_score(y_test, gbkpred),2)*100))\n",
        "print('Avg scores: %0.2f (+/- %0.2f)' % (scores.mean()*100, scores.std()*100))"
      ],
      "execution_count": null,
      "outputs": [
        {
          "output_type": "stream",
          "text": [
            "[[ 217  742]\n",
            " [ 100 7179]]\n",
            "Accuracy testset: 90.00\n",
            "Avg accuracy: 90.14 (+/- 0.30)\n"
          ],
          "name": "stdout"
        }
      ]
    },
    {
      "cell_type": "markdown",
      "metadata": {
        "id": "_wjyJNDoswNc"
      },
      "source": [
        "## 9. Score of models:"
      ]
    },
    {
      "cell_type": "code",
      "metadata": {
        "colab": {
          "base_uri": "https://localhost:8080/",
          "height": 254
        },
        "id": "qs2tOwLSUMMk",
        "outputId": "0dad3e92-20bb-4d8f-aacb-9dd8bf88e84e"
      },
      "source": [
        "models = pd.DataFrame({\n",
        "    'Models':['Logistic regression', 'KNN', 'Decision tree', 'Random forest', 'Naive bayes', 'XGBoost', 'Gradient boosting'],\n",
        "    'Score':[LGCV, KNNCV, DTCV, RFCV, GNBCV, XGBCV, GBCV]\n",
        "})\n",
        "\n",
        "models.sort_values(by='Score', ascending=False)"
      ],
      "execution_count": null,
      "outputs": [
        {
          "output_type": "execute_result",
          "data": {
            "text/html": [
              "<div>\n",
              "<style scoped>\n",
              "    .dataframe tbody tr th:only-of-type {\n",
              "        vertical-align: middle;\n",
              "    }\n",
              "\n",
              "    .dataframe tbody tr th {\n",
              "        vertical-align: top;\n",
              "    }\n",
              "\n",
              "    .dataframe thead th {\n",
              "        text-align: right;\n",
              "    }\n",
              "</style>\n",
              "<table border=\"1\" class=\"dataframe\">\n",
              "  <thead>\n",
              "    <tr style=\"text-align: right;\">\n",
              "      <th></th>\n",
              "      <th>Models</th>\n",
              "      <th>Score</th>\n",
              "    </tr>\n",
              "  </thead>\n",
              "  <tbody>\n",
              "    <tr>\n",
              "      <th>6</th>\n",
              "      <td>Gradient boosting</td>\n",
              "      <td>90.136571</td>\n",
              "    </tr>\n",
              "    <tr>\n",
              "      <th>5</th>\n",
              "      <td>XGBoost</td>\n",
              "      <td>90.121396</td>\n",
              "    </tr>\n",
              "    <tr>\n",
              "      <th>0</th>\n",
              "      <td>Logistic regression</td>\n",
              "      <td>90.027314</td>\n",
              "    </tr>\n",
              "    <tr>\n",
              "      <th>1</th>\n",
              "      <td>KNN</td>\n",
              "      <td>89.863429</td>\n",
              "    </tr>\n",
              "    <tr>\n",
              "      <th>3</th>\n",
              "      <td>Random forest</td>\n",
              "      <td>88.701062</td>\n",
              "    </tr>\n",
              "    <tr>\n",
              "      <th>2</th>\n",
              "      <td>Decision tree</td>\n",
              "      <td>84.033384</td>\n",
              "    </tr>\n",
              "    <tr>\n",
              "      <th>4</th>\n",
              "      <td>Naive bayes</td>\n",
              "      <td>83.808801</td>\n",
              "    </tr>\n",
              "  </tbody>\n",
              "</table>\n",
              "</div>"
            ],
            "text/plain": [
              "                Models      Score\n",
              "6    Gradient boosting  90.136571\n",
              "5              XGBoost  90.121396\n",
              "0  Logistic regression  90.027314\n",
              "1                  KNN  89.863429\n",
              "3        Random forest  88.701062\n",
              "2        Decision tree  84.033384\n",
              "4          Naive bayes  83.808801"
            ]
          },
          "metadata": {
            "tags": []
          },
          "execution_count": 275
        }
      ]
    },
    {
      "cell_type": "markdown",
      "metadata": {
        "id": "xeJ0_jWt9N-6"
      },
      "source": [
        "# Analyzing the results:"
      ]
    },
    {
      "cell_type": "markdown",
      "metadata": {
        "id": "RHJTbWA8VAeK"
      },
      "source": [
        "`1.` **False Positive Rate** (*tỉ lệ nhầm*): tỉ lệ khách hàng không đăng kí nhưng model lại dự đoán là có.  \n",
        "`2.` **False Negative Rate** (*tỉ lệ bỏ sót*): tỉ lệ khách hàng đăng kí nhưng model lại dự đoán là không.  "
      ]
    },
    {
      "cell_type": "markdown",
      "metadata": {
        "id": "yMBrY9BXkDmL"
      },
      "source": [
        "## Receiver operating characteristic curve (ROC curve) và Area under the curve (AUC):"
      ]
    },
    {
      "cell_type": "code",
      "metadata": {
        "id": "eJjjPRNnk72s"
      },
      "source": [
        "from sklearn import metrics"
      ],
      "execution_count": null,
      "outputs": []
    },
    {
      "cell_type": "code",
      "metadata": {
        "colab": {
          "base_uri": "https://localhost:8080/",
          "height": 338
        },
        "id": "M-24WXY_c69g",
        "outputId": "cb7880de-31ce-4c73-8ae0-79130649c6ed"
      },
      "source": [
        "fig, ax_arr = plt.subplots(nrows = 2, ncols = 4, figsize = (20,10))\n",
        "\n",
        "#LOGMODEL\n",
        "probs = logmodel.predict_proba(X_test)\n",
        "preds = probs[:,1]\n",
        "fprlog, tprlog, thresholdlog = metrics.roc_curve(y_test, preds)\n",
        "roc_auclog = metrics.auc(fprlog, tprlog)\n",
        "\n",
        "ax_arr[0,0].plot(fprlog, tprlog, 'b', label = 'AUC = %0.3f' % roc_auclog)\n",
        "ax_arr[0,0].plot([0, 1], [0, 1],'r--')\n",
        "ax_arr[0,0].set_title('ROC curve of Logistic ',fontsize=10)\n",
        "ax_arr[0,0].set_ylabel('True Positive Rate',fontsize=10)\n",
        "ax_arr[0,0].set_xlabel('False Positive Rate',fontsize=10)\n",
        "ax_arr[0,0].legend(loc = 'lower right', prop={'size': 16})\n",
        "\n",
        "#KNN----------------------\n",
        "probs = knn.predict_proba(X_test)\n",
        "preds = probs[:,1]\n",
        "fprknn, tprknn, thresholdknn = metrics.roc_curve(y_test, preds)\n",
        "roc_aucknn = metrics.auc(fprknn, tprknn)\n",
        "\n",
        "ax_arr[0,1].plot(fprknn, tprknn, 'b', label = 'AUC = %0.3f' % roc_aucknn)\n",
        "ax_arr[0,1].plot([0, 1], [0, 1],'r--')\n",
        "ax_arr[0,1].set_title('ROC curve of KNN ',fontsize=10)\n",
        "ax_arr[0,1].set_ylabel('True Positive Rate',fontsize=10)\n",
        "ax_arr[0,1].set_xlabel('False Positive Rate',fontsize=10)\n",
        "ax_arr[0,1].legend(loc = 'lower right', prop={'size': 16})\n",
        "\n",
        "#DECISION TREE ---------------------\n",
        "probs = dtree.predict_proba(X_test)\n",
        "preds = probs[:,1]\n",
        "fprdtree, tprdtree, thresholddtree = metrics.roc_curve(y_test, preds)\n",
        "roc_aucdtree = metrics.auc(fprdtree, tprdtree)\n",
        "\n",
        "ax_arr[0,2].plot(fprdtree, tprdtree, 'b', label = 'AUC = %0.3f' % roc_aucdtree)\n",
        "ax_arr[0,2].plot([0, 1], [0, 1],'r--')\n",
        "ax_arr[0,2].set_title('ROC curve of Decision Tree ',fontsize=10)\n",
        "ax_arr[0,2].set_ylabel('True Positive Rate',fontsize=10)\n",
        "ax_arr[0,2].set_xlabel('False Positive Rate',fontsize=10)\n",
        "ax_arr[0,2].legend(loc = 'lower right', prop={'size': 16})\n",
        "\n",
        "#RANDOM FOREST --------------------\n",
        "probs = rfc.predict_proba(X_test)\n",
        "preds = probs[:,1]\n",
        "fprrfc, tprrfc, thresholdrfc = metrics.roc_curve(y_test, preds)\n",
        "roc_aucrfc = metrics.auc(fprrfc, tprrfc)\n",
        "\n",
        "ax_arr[0,3].plot(fprrfc, tprrfc, 'b', label = 'AUC = %0.3f' % roc_aucrfc)\n",
        "ax_arr[0,3].plot([0, 1], [0, 1],'r--')\n",
        "ax_arr[0,3].set_title('ROC curve of Random Forest ',fontsize=10)\n",
        "ax_arr[0,3].set_ylabel('True Positive Rate',fontsize=10)\n",
        "ax_arr[0,3].set_xlabel('False Positive Rate',fontsize=10)\n",
        "ax_arr[0,3].legend(loc = 'lower right', prop={'size': 16})\n",
        "\n",
        "\n",
        "#GAUSSIAN ---------------------\n",
        "probs = gaussiannb.predict_proba(X_test)\n",
        "preds = probs[:,1]\n",
        "fprgau, tprgau, thresholdgau = metrics.roc_curve(y_test, preds)\n",
        "roc_aucgau = metrics.auc(fprgau, tprgau)\n",
        "\n",
        "ax_arr[1,0].plot(fprgau, tprgau, 'b', label = 'AUC = %0.3f' % roc_aucgau)\n",
        "ax_arr[1,0].plot([0, 1], [0, 1],'r--')\n",
        "ax_arr[1,0].set_title('ROC curve of Gaussian ',fontsize=10)\n",
        "ax_arr[1,0].set_ylabel('True Positive Rate',fontsize=10)\n",
        "ax_arr[1,0].set_xlabel('False Positive Rate',fontsize=10)\n",
        "ax_arr[1,0].legend(loc = 'lower right', prop={'size': 16})\n",
        "\n",
        "#XGBOOST\n",
        "probs = xgb.predict_proba(X_test)\n",
        "preds = probs[:,1]\n",
        "fprxgb, tprxgb, thresholdxgb = metrics.roc_curve(y_test, preds)\n",
        "roc_aucxgb = metrics.auc(fprxgb, tprxgb)\n",
        "\n",
        "ax_arr[1,1].plot(fprxgb, tprxgb, 'b', label = 'AUC = %0.3f' % roc_aucxgb)\n",
        "ax_arr[1,1].plot([0, 1], [0, 1],'r--')\n",
        "ax_arr[1,1].set_title('ROC curve of XGBOOST ',fontsize=10)\n",
        "ax_arr[1,1].set_ylabel('True Positive Rate',fontsize=10)\n",
        "ax_arr[1,1].set_xlabel('False Positive Rate',fontsize=10)\n",
        "ax_arr[1,1].legend(loc = 'lower right', prop={'size': 16})\n",
        "\n",
        "#Gradient\n",
        "probs = gbk.predict_proba(X_test)\n",
        "preds = probs[:,1]\n",
        "fprgbk, tprgbk, thresholdgbk = metrics.roc_curve(y_test, preds)\n",
        "roc_aucgbk = metrics.auc(fprgbk, tprgbk)\n",
        "\n",
        "ax_arr[1,2].plot(fprgbk, tprgbk, 'b', label = 'AUC = %0.3f' % roc_aucgbk)\n",
        "ax_arr[1,2].plot([0, 1], [0, 1],'r--')\n",
        "ax_arr[1,2].set_title('ROC curve of GRADIENT BOOST ',fontsize=10)\n",
        "ax_arr[1,2].set_ylabel('True Positive Rate',fontsize=10)\n",
        "ax_arr[1,2].set_xlabel('False Positive Rate',fontsize=10)\n",
        "ax_arr[1,2].legend(loc = 'lower right', prop={'size': 16})\n",
        "\n",
        "#ALL PLOTS ----------------------------------\n",
        "ax_arr[1,3].plot(fprlog, tprlog, 'b', label = 'Logistic', color='red')\n",
        "ax_arr[1,3].plot(fprknn, tprknn, 'b', label = 'KNN', color='orange')\n",
        "ax_arr[1,3].plot(fprdtree, tprdtree, 'b', label = 'Decision Tree', color='yellow')\n",
        "ax_arr[1,3].plot(fprrfc, tprrfc, 'b', label = 'Random forest', color='green')\n",
        "ax_arr[1,3].plot(fprgau, tprgau, 'b', label = 'Naive Bayes', color='skyblue')\n",
        "ax_arr[1,3].plot(fprxgb, tprxgb, 'b', label = 'XGBoost', color='blue')\n",
        "ax_arr[1,3].plot(fprgbk, tprgbk, 'b', label = 'Gradient boosting', color='purple')\n",
        "ax_arr[1,3].plot([0, 1], [0, 1],'r--')\n",
        "ax_arr[1,3].set_title('ROC curve Comparison ',fontsize=10)\n",
        "ax_arr[1,3].set_ylabel('True Positive Rate',fontsize=10)\n",
        "ax_arr[1,3].set_xlabel('False Positive Rate',fontsize=10)\n",
        "ax_arr[1,3].legend(loc = 'lower right', prop={'size': 10})\n",
        "\n",
        "plt.subplots_adjust(wspace=0.2)\n",
        "plt.tight_layout() "
      ],
      "execution_count": null,
      "outputs": [
        {
          "output_type": "display_data",
          "data": {
            "image/png": "[encoded data removed]",
            "text/plain": [
              "<Figure size 1440x720 with 8 Axes>"
            ]
          },
          "metadata": {
            "tags": [],
            "needs_background": "light"
          }
        }
      ]
    },
    {
      "cell_type": "markdown",
      "metadata": {
        "id": "aLjQ203x18Xf"
      },
      "source": [
        "-> Dựa vào AUC thì mô hình XGBoost đem lại hiệu quả cao nhất."
      ]
    },
    {
      "cell_type": "code",
      "metadata": {
        "id": "vTE9r8AK4k1C"
      },
      "source": [],
      "execution_count": null,
      "outputs": []
    },
    {
      "cell_type": "markdown",
      "metadata": {
        "id": "wkGju85HfVXN"
      },
      "source": [
        "##**KẾT LUẬN:**  \n",
        "- Chấp nhận việc để FPR cao hơn và FNR thấp hơn vì chi phí cho việc marketing nhầm ít hơn rất nhiều so với việc mất đi khoản lợi nhuận có thể có từ nhóm khách hàng tiềm năng. \n",
        "- Vì vậy cần tìm ra mô hình tốt nhất với confusion matrix có FNR thấp nhất.  \n",
        "- Tỉ lệ chênh lệch giữa \"Yes\" và \"No\" cao nên sẽ sử dụng **Precision** và **Recall**."
      ]
    },
    {
      "cell_type": "code",
      "metadata": {
        "id": "xbW3eDvll5OW"
      },
      "source": [],
      "execution_count": null,
      "outputs": []
    }
  ]
}